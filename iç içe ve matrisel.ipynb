{
 "cells": [
  {
   "cell_type": "markdown",
   "id": "f80a5e22",
   "metadata": {},
   "source": [
    "# liste=[]\n",
    "c=0\n",
    "n=int(input(\"n:\"))\n",
    "for i in range(n):\n",
    "    taban=int(input(\"taban:\"))\n",
    "    ust=int(input(\"ust:\"))\n",
    "    liste.append(taban**ust)\n",
    "for i in range(len(liste)-1):\n",
    "    for j in range(len(liste)-1):\n",
    "        if liste[i]==liste[j]:\n",
    "            c+=1\n",
    "    if c==1:\n",
    "        print(\"boyalı\")\n",
    "    else:\n",
    "        print(liste[i])\n",
    "            \n",
    "       \n",
    "        \n",
    "       \n",
    "    \n",
    "    \n",
    "            \n"
   ]
  },
  {
   "cell_type": "markdown",
   "id": "43e124c9",
   "metadata": {},
   "source": []
  },
  {
   "cell_type": "code",
   "execution_count": 2,
   "id": "aeb9692f",
   "metadata": {},
   "outputs": [
    {
     "name": "stdout",
     "output_type": "stream",
     "text": [
      "x\n"
     ]
    }
   ],
   "source": [
    "def Hesapla(x):\n",
    "    xcm=x\n",
    "    yol=xcm\n",
    "    while xcm>10:\n",
    "        xcm=xcm*0.9\n",
    "        yol+=xcm\n",
    "        return yol\n",
    "\n",
    "print(\"x\")\n",
    "        "
   ]
  },
  {
   "cell_type": "code",
   "execution_count": 3,
   "id": "96de2215",
   "metadata": {},
   "outputs": [
    {
     "name": "stdout",
     "output_type": "stream",
     "text": [
      "    *\n",
      "   ***\n",
      "  *****\n",
      " *******\n",
      "*********\n",
      " *******\n",
      "  *****\n",
      "   ***\n",
      "    *\n"
     ]
    }
   ],
   "source": [
    "for i in range(5):\n",
    "    print(\" \"*(5-1-i),end=\"\")\n",
    "    for j in range(i*2 + 1):\n",
    "        print('*',end=\"\")\n",
    "    \n",
    "    print()\n",
    "    \n",
    "for i in range(3,-1,-1):\n",
    "    print(\" \"*(5-1-i),end=\"\")\n",
    "    for j in range(i*2 + 1):\n",
    "        print('*',end=\"\")\n",
    "        \n",
    "    print()\n",
    "    \n",
    "    \n",
    "\n",
    "\n",
    "    \n",
    "        "
   ]
  },
  {
   "cell_type": "code",
   "execution_count": 4,
   "id": "f0741a77",
   "metadata": {},
   "outputs": [
    {
     "name": "stdout",
     "output_type": "stream",
     "text": [
      "***********\n",
      "*********\n",
      " *******\n",
      "  *****\n",
      "   ***\n",
      "    *\n"
     ]
    }
   ],
   "source": [
    "for i in range(5,-1,-1):\n",
    "    print(\" \"*(5-1-i),end=\"\")\n",
    "    for j in range(i*2 + 1):\n",
    "        print(\"*\",end=\"\")\n",
    "    \n",
    "    print()"
   ]
  },
  {
   "cell_type": "code",
   "execution_count": 5,
   "id": "6d438619",
   "metadata": {},
   "outputs": [
    {
     "name": "stdout",
     "output_type": "stream",
     "text": [
      "           \n",
      "*         *\n",
      "**       **\n",
      "***     ***\n",
      "****   ****\n",
      "***** *****\n",
      "***** *****\n",
      "****   ****\n",
      "***     ***\n",
      "**       **\n",
      "*         *\n"
     ]
    }
   ],
   "source": [
    "def kelebek_ciz():\n",
    "    for i in range(6):\n",
    "        for j in range(i):\n",
    "            print(\"*\", end=\"\")\n",
    "        for k in range(11 - 2 * i):\n",
    "            print(\" \", end=\"\")\n",
    "        for l in range(i):\n",
    "            print(\"*\", end=\"\")\n",
    "        \n",
    "        print()\n",
    "\n",
    "    for i in range(5, 0, -1):\n",
    "        for j in range(i):\n",
    "            print(\"*\", end=\"\")\n",
    "        for k in range(11 - 2 * i):\n",
    "            print(\" \", end=\"\")\n",
    "        for l in range(i):\n",
    "            print(\"*\", end=\"\")\n",
    "        print()\n",
    "\n",
    "kelebek_ciz()"
   ]
  },
  {
   "cell_type": "code",
   "execution_count": 6,
   "id": "53b3e778",
   "metadata": {},
   "outputs": [
    {
     "name": "stdout",
     "output_type": "stream",
     "text": [
      "[[1, 6, 6], [6, 5, 7], [11, 13, 15]]\n"
     ]
    }
   ],
   "source": [
    "m = [[1,2,3],[4,5,6],[7,8,9]]\n",
    "n = [[0,4,3],[2,0,1],[4,5,6]]\n",
    "k = []\n",
    "\n",
    "for i in range(len(m)):\n",
    "    k_satir = []\n",
    "    for j in range(len(m[0])):\n",
    "        m_index = m[i][j]\n",
    "        n_index = n[i][j]\n",
    "        toplam = m_index + n_index\n",
    "        k_satir.append(toplam)\n",
    "        \n",
    "    k.append(k_satir)\n",
    "        \n",
    "print(k)"
   ]
  },
  {
   "cell_type": "code",
   "execution_count": 7,
   "id": "fff9cdca",
   "metadata": {},
   "outputs": [
    {
     "name": "stdout",
     "output_type": "stream",
     "text": [
      "[6, 15, 24]\n",
      "[12, 15, 18]\n"
     ]
    }
   ],
   "source": [
    "m = [[1,2,3],[4,5,6],[7,8,9]]\n",
    "\n",
    "satır = []\n",
    "sutun = []\n",
    "traspoze = []\n",
    "\n",
    "for i in range(len(m)):\n",
    "    m_satır = []\n",
    "    m_sutun = []\n",
    "    m_traspoze = []\n",
    "    for j in range(len(m[0])):\n",
    "        \n",
    "        m_satır.append(m[i][j])\n",
    "        m_traspoze.append(m[j][i])\n",
    "    \n",
    "    satır.append(sum(m_satır))\n",
    "    traspoze.append(sum(m_traspoze))\n",
    "    \n",
    "print(satır)\n",
    "print(traspoze)\n"
   ]
  },
  {
   "cell_type": "code",
   "execution_count": 8,
   "id": "4dee6d86",
   "metadata": {},
   "outputs": [
    {
     "name": "stdout",
     "output_type": "stream",
     "text": [
      "Matrisin İzi: 15\n"
     ]
    }
   ],
   "source": [
    "def matris_izi(matris):\n",
    "    iz = 0\n",
    "    for i in range(len(matris)):\n",
    "        iz += matris[i][i]\n",
    "    return iz\n",
    "\n",
    "# Örnek bir matris\n",
    "matris = [\n",
    "    [1, 2, 3],\n",
    "    [4, 5, 6],\n",
    "    [7, 8, 9]\n",
    "]\n",
    "\n",
    "# Matrisin izini hesaplayalım\n",
    "iz = matris_izi(matris)\n",
    "\n",
    "print(\"Matrisin İzi:\", iz)"
   ]
  },
  {
   "cell_type": "code",
   "execution_count": 9,
   "id": "c879cf20",
   "metadata": {},
   "outputs": [
    {
     "name": "stdout",
     "output_type": "stream",
     "text": [
      "Matristeki en büyük sayılar: [3, 6, 9]\n"
     ]
    }
   ],
   "source": [
    "m = [[1, 2, 3], [4, 5, 6], [7, 8, 9]]\n",
    "\n",
    "enBuyuk = []\n",
    "\n",
    "for i in range(len(m)):\n",
    "    mi = m[i]\n",
    "    maxi = mi[0]\n",
    "    for k in range(1, len(mi)):\n",
    "        if maxi < mi[k]:\n",
    "            maxi = mi[k]\n",
    "    enBuyuk.append(maxi)\n",
    "\n",
    "print(\"Matristeki en büyük sayılar:\", enBuyuk)"
   ]
  },
  {
   "cell_type": "code",
   "execution_count": 10,
   "id": "855a8947",
   "metadata": {},
   "outputs": [
    {
     "name": "stdout",
     "output_type": "stream",
     "text": [
      "Matrisin İzi: 15\n"
     ]
    }
   ],
   "source": [
    "def matris_izi(matris):\n",
    "    iz = 0\n",
    "    for i in range(len(matris)):\n",
    "        iz += matris[i][i]\n",
    "    return iz\n",
    "\n",
    "# Örnek bir matris\n",
    "matris = [\n",
    "    [1, 2, 3],\n",
    "    [4, 5, 6],\n",
    "    [7, 8, 9]\n",
    "]\n",
    "\n",
    "# Matrisin izini hesaplayalım\n",
    "iz = matris_izi(matris)\n",
    "\n",
    "print(\"Matrisin İzi:\", iz)"
   ]
  },
  {
   "cell_type": "code",
   "execution_count": 11,
   "id": "d700851e",
   "metadata": {},
   "outputs": [
    {
     "name": "stdout",
     "output_type": "stream",
     "text": [
      "k:1\n",
      "sayı:1\n",
      "[[1, 2, 3], [4, 5, 6], [7, 8, 9]]\n"
     ]
    }
   ],
   "source": [
    "m = [[1, 2, 3], [4, 5, 6], [7, 8, 9]]\n",
    "\n",
    "k = int(input(\"k:\"))\n",
    "sayi = int(input(\"sayı:\"))\n",
    "c = 0\n",
    "\n",
    "for i in range(len(m)):\n",
    "    for j in range(len(m[0])):\n",
    "        c += 1\n",
    "        \n",
    "        if c == k:\n",
    "            m[i][j] = sayi\n",
    "            break\n",
    "\n",
    "print(m)        "
   ]
  },
  {
   "cell_type": "code",
   "execution_count": null,
   "id": "c539b630",
   "metadata": {},
   "outputs": [],
   "source": [
    "def matris_carpimi(matris1, matris2):\n",
    "    m = len(matris1)\n",
    "    n = len(matris2)\n",
    "    p = len(matris2[0])\n",
    "\n",
    "    if len(matris1[0]) != n:\n",
    "        raise ValueError(\"İlk matrisin sütun sayısı ile ikinci matrisin satır sayısı eşit olmalı!\")\n",
    "\n",
    "    carpim_matrisi = [[0 for _ in range(p)] for _ in range(m)]\n",
    "\n",
    "    for i in range(m):\n",
    "        for j in range(p):\n",
    "            for k in range(n):\n",
    "                carpim_matrisi[i][j] += matris1[i][k] * matris2[k][j]\n",
    "\n",
    "    return carpim_matrisi\n",
    "\n",
    "def matrisi_yazdir(matris):\n",
    "    for satir in matris:\n",
    "        print(satir)\n",
    "\n",
    "def main():\n",
    "    try:\n",
    "        matris1_satir_sayisi = int(input(\"1. matrisin satır sayısını girin: \"))\n",
    "        matris1_sutun_sayisi = int(input(\"1. matrisin sütun sayısını girin: \"))\n",
    "\n",
    "        matris1 = []\n",
    "        for i in range(matris1_satir_sayisi):\n",
    "            satir = []\n",
    "            for j in range(matris1_sutun_sayisi):\n",
    "                eleman = int(input(f\"1. matrisin ({i+1},{j+1}) elemanını girin: \"))\n",
    "                satir.append(eleman)\n",
    "            matris1.append(satir)\n",
    "\n",
    "        matris2_satir_sayisi = int(input(\"2. matrisin satır sayısını girin: \"))\n",
    "        matris2_sutun_sayisi = int(input(\"2. matrisin sütun sayısını girin: \"))\n",
    "\n",
    "        matris2 = []\n",
    "        for i in range(matris2_satir_sayisi):\n",
    "            satir = []\n",
    "            for j in range(matris2_sutun_sayisi):\n",
    "                eleman = int(input(f\"2. matrisin ({i+1},{j+1}) elemanını girin: \"))\n",
    "                satir.append(eleman)\n",
    "            matris2.append(satir)\n",
    "\n",
    "        carpim_matrisi = matris_carpimi(matris1, matris2)\n",
    "\n",
    "        print(\"\\n1. Matris:\")\n",
    "        matrisi_yazdir(matris1)\n",
    "\n",
    "        print(\"\\n2. Matris:\")\n",
    "        matrisi_yazdir(matris2)\n",
    "\n",
    "        print(\"\\nMatris Çarpımı:\")\n",
    "        matrisi_yazdir(carpim_matrisi)\n",
    "\n",
    "    except ValueError:\n",
    "        print(\"Hatalı giriş! Lütfen sayısal değerler giriniz.\")\n",
    "\n",
    "if __name__ == \"__main__\":\n",
    "    main()"
   ]
  },
  {
   "cell_type": "code",
   "execution_count": null,
   "id": "d48fdc39",
   "metadata": {},
   "outputs": [],
   "source": []
  }
 ],
 "metadata": {
  "kernelspec": {
   "display_name": "Python 3 (ipykernel)",
   "language": "python",
   "name": "python3"
  },
  "language_info": {
   "codemirror_mode": {
    "name": "ipython",
    "version": 3
   },
   "file_extension": ".py",
   "mimetype": "text/x-python",
   "name": "python",
   "nbconvert_exporter": "python",
   "pygments_lexer": "ipython3",
   "version": "3.9.12"
  }
 },
 "nbformat": 4,
 "nbformat_minor": 5
}
