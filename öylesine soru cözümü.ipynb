{
 "cells": [
  {
   "cell_type": "code",
   "execution_count": null,
   "id": "0d4100f0",
   "metadata": {},
   "outputs": [],
   "source": [
    "def Hesapla(x):\n",
    "    xcm=x\n",
    "    yol=xcm\n",
    "    while xcm>10:\n",
    "        xcm=xcm*0.9\n",
    "        yol+=xcm\n",
    "        return yol\n",
    "\n",
    "print(Hesapla(100))\n",
    "        "
   ]
  },
  {
   "cell_type": "code",
   "execution_count": null,
   "id": "680b2ef1",
   "metadata": {},
   "outputs": [],
   "source": [
    "# k = 5 girildiğinde 1 ile 10 arasında değerler olan liste aşağıdaki gibi 5 defa kaydırılıyor. \n",
    "# Bunu gerçekleştiren programı yazınız?\n",
    "\n",
    "def donder(liste):\n",
    "    listem = []\n",
    "    k = int(input('k:'))\n",
    "    i = 0\n",
    "    while k >= i:\n",
    "        listem.append(len(liste) - k + i)\n",
    "        i += 1\n",
    "        \n",
    "    lis1 = []\n",
    "    for j in range(k, len(listem)):\n",
    "        lis1.append(listem[j])\n",
    "        \n",
    "    for t in range(0, k):\n",
    "        lis1.append(liste[t])\n",
    "        \n",
    "    return lis1\n",
    "\n",
    "\n",
    "sonuc = donder([1, 2, 3, 4, 5, 6, 7, 8, 9, 10])\n",
    "\n",
    "print(sonuc)      "
   ]
  },
  {
   "cell_type": "code",
   "execution_count": null,
   "id": "82277272",
   "metadata": {},
   "outputs": [],
   "source": [
    "i = 2\n",
    "i **= 3\n",
    "print(i)"
   ]
  },
  {
   "cell_type": "code",
   "execution_count": null,
   "id": "824e68e6",
   "metadata": {},
   "outputs": [],
   "source": [
    "def harf_M_yaz():\n",
    "    satir_sayisi = 10\n",
    "    sutun_sayisi = 10\n",
    "\n",
    "    # Boşluklarla dolu 10x10'luk bir matris oluştur\n",
    "    matris = [[' ' for _ in range(sutun_sayisi)] for _ in range(satir_sayisi)]\n",
    "\n",
    "    # \"M\" harfini oluşturacak şekilde matrisi doldur\n",
    "    for i in range(satir_sayisi):\n",
    "        matris[i][0] = '*'\n",
    "        matris[i][sutun_sayisi - 1] = '*'\n",
    "\n",
    "        if i < satir_sayisi // 2:\n",
    "            matris[i][i] = '*'\n",
    "            matris[i][sutun_sayisi - i - 1] = '*'\n",
    "        \n",
    "\n",
    "    # Matrisi yazdır\n",
    "    for i in range(satir_sayisi):\n",
    "        print(''.join(matris[i]))\n",
    "\n",
    "# \"M\" harfini yazdırmak için fonksiyonu çağır\n",
    "harf_M_yaz()       "
   ]
  },
  {
   "cell_type": "code",
   "execution_count": null,
   "id": "5b806199",
   "metadata": {},
   "outputs": [],
   "source": [
    "TC=input(\"TC :\")\n",
    "for i in TC:\n",
    "     if '0' <= i <= '9' and len(TC)==11: # i yerine int(i) dersek 0 < int(i) < 9 demeliyiz\n",
    "            print(TC)\n",
    "            break\n",
    "   \n",
    "     else:\n",
    "        print('LÜTFEN TC DOĞRU GİRİNİZ')            "
   ]
  },
  {
   "cell_type": "code",
   "execution_count": null,
   "id": "eadc1e9a",
   "metadata": {},
   "outputs": [],
   "source": [
    "kelime='hakan ve ben'\n",
    "for i in range(len(kelime)-1,-1,-1):\n",
    "    print(kelime[i],end='') # kelime[i] yapmak yerine burda i deseydik ekrana sayı çıktılarda"
   ]
  },
  {
   "cell_type": "code",
   "execution_count": null,
   "id": "292f2392",
   "metadata": {},
   "outputs": [],
   "source": [
    "sesli_harfler = ['A', 'E', 'I', 'O', 'U', 'a', 'e', 'ı', 'i', 'o', 'u']\n",
    "sessiz_harfler = ['B', 'C', 'Ç', 'D', 'F', 'G', 'Ğ', 'H', 'J', 'K', 'L', 'M', 'N', 'P', 'R', 'S', 'Ş', 'T', 'V', 'Y', 'Z',\n",
    "                 'b', 'c', 'ç', 'd', 'f', 'g', 'ğ', 'h', 'j', 'k', 'l', 'm', 'n', 'p', 'r', 's', 'ş', 't', 'v', 'y', 'z']\n",
    "sessiz=0\n",
    "sesli=0\n",
    "cumle=input('Cumlem :')\n",
    "for harf in cumle:\n",
    "    if harf in sesli_harfler:\n",
    "        sesli+=1\n",
    "    if harf in sessiz_harfler:\n",
    "        sessiz+=1\n",
    "        \n",
    "print(\"Sesli Sayısı:\",sesli)\n",
    "print(\"Sessiz Sayısı:\",sessiz)"
   ]
  },
  {
   "cell_type": "code",
   "execution_count": null,
   "id": "517de329",
   "metadata": {},
   "outputs": [],
   "source": [
    "s=input(\"Cümle :\")\n",
    "kelime=0\n",
    "rakam=0\n",
    "karakter=0\n",
    "for i in s:\n",
    "    if 'a' < i < 'z' or 'A' < i < 'Z' :          \n",
    "        kelime+=1\n",
    "        \n",
    "    \n",
    "    elif '0' < i < '9' :\n",
    "        rakam+=1\n",
    "    \n",
    "    else:\n",
    "        karakter+=1\n",
    "        \n",
    "print(\"Kelime Sayısı:\", kelime)\n",
    "print(\"Rakam Sayısı:\", rakam)\n",
    "print(\"Karakter Sayısı\",karakter)"
   ]
  },
  {
   "cell_type": "code",
   "execution_count": null,
   "id": "b3905d55",
   "metadata": {},
   "outputs": [],
   "source": [
    "k=input('k:')\n",
    "c=0\n",
    "m=0\n",
    "for i in k:\n",
    "    if 'A' < i < 'Z':\n",
    "        c+=1\n",
    "    if 'a' < i < 'z':\n",
    "        m+=1\n",
    "\n",
    "if c>0 and m==0:\n",
    "    print(\"GİRİLEN YAZI BÜYÜK HARFLE YAZILMIŞ\")\n",
    "else:\n",
    "    print(\"YANLIŞ\")\n",
    "        "
   ]
  },
  {
   "cell_type": "code",
   "execution_count": null,
   "id": "59de08ad",
   "metadata": {},
   "outputs": [],
   "source": [
    "def HarfDonustur(kelime):\n",
    "    sesli_harfler = ['A', 'E', 'I', 'İ', 'O', 'Ö', 'U', 'Ü', 'a', 'e', 'ı', 'i', 'o', 'ö', 'u', 'ü']\n",
    "    yeni_kelime = \"\"\n",
    "\n",
    "    if len(kelime) > 20:\n",
    "        print('LÜTFEN EN FAZLA 20 KARAKTERDEN OLUŞTURUN !')\n",
    "    else:\n",
    "        c = 0\n",
    "        for karakter in kelime:\n",
    "            if karakter in sesli_harfler:\n",
    "                yeni_kelime += 'X'\n",
    "                c += 1\n",
    "            else:\n",
    "                yeni_kelime += karakter\n",
    "\n",
    "        print(\"Yeni kelime:\", yeni_kelime)\n",
    "        print(f\"{c} defa yer değiştirme işlemi yapıldı.\")\n",
    "\n",
    "kelime = input(\"Kelimeyi Giriniz: \")\n",
    "HarfDonustur(kelime)   "
   ]
  },
  {
   "cell_type": "code",
   "execution_count": null,
   "id": "f85dcb06",
   "metadata": {},
   "outputs": [],
   "source": [
    "def TekSayıDonuster(n):\n",
    "    liste = []\n",
    "    c = 0\n",
    "    for i in range(n):\n",
    "        sayı = int(input('sayı: '))\n",
    "        liste.append(sayı)\n",
    "    \n",
    "    for k in range(len(liste)):\n",
    "        if liste[k] % 2 == 0:\n",
    "            liste[k] = liste[k] + 1\n",
    "            c += 1\n",
    "            print(liste[k])\n",
    "        else:\n",
    "            print(liste[k])\n",
    "\n",
    "    return c\n",
    "\n",
    "sonuc = TekSayıDonuster(6)\n",
    "print(\"Toplamda\", sonuc, \"defa yer değiştirme işlemi yapıldı.\")"
   ]
  },
  {
   "cell_type": "code",
   "execution_count": null,
   "id": "59bd3ba0",
   "metadata": {},
   "outputs": [],
   "source": []
  },
  {
   "cell_type": "code",
   "execution_count": null,
   "id": "ce4461ef",
   "metadata": {},
   "outputs": [],
   "source": []
  }
 ],
 "metadata": {
  "kernelspec": {
   "display_name": "Python 3 (ipykernel)",
   "language": "python",
   "name": "python3"
  },
  "language_info": {
   "codemirror_mode": {
    "name": "ipython",
    "version": 3
   },
   "file_extension": ".py",
   "mimetype": "text/x-python",
   "name": "python",
   "nbconvert_exporter": "python",
   "pygments_lexer": "ipython3",
   "version": "3.9.12"
  }
 },
 "nbformat": 4,
 "nbformat_minor": 5
}
