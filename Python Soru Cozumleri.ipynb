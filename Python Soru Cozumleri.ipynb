{
 "cells": [
  {
   "cell_type": "code",
   "execution_count": 1,
   "id": "d11e6b0c",
   "metadata": {},
   "outputs": [],
   "source": [
    "# Bir metindeki her kelimenin ilk harfini büyük harfe çevirin."
   ]
  },
  {
   "cell_type": "code",
   "execution_count": 2,
   "id": "518b5520",
   "metadata": {},
   "outputs": [],
   "source": [
    "def ilk_harf_buyuk(metin):\n",
    "    kelimeler = metin.split() # metni kelimelere ayırır\n",
    "    yeni_kelimeler = [] # yeni kelimeler için boş bir liste oluşturur\n",
    "    for kelime in kelimeler:\n",
    "        yeni_kelimeler.append(kelime.capitalize()) # her kelimenin ilk harfini büyük harfe çevirir ve yeni kelime listesine ekler\n",
    "    yeni_metin = \" \".join(yeni_kelimeler) # yeni kelime listesini birleştirir ve yeni bir metin oluşturur\n",
    "    return yeni_metin"
   ]
  },
  {
   "cell_type": "code",
   "execution_count": 3,
   "id": "661d37de",
   "metadata": {},
   "outputs": [
    {
     "name": "stdout",
     "output_type": "stream",
     "text": [
      "Sayı Giriniz :4\n",
      "Pronic Degil\n"
     ]
    }
   ],
   "source": [
    "# Girilen sayının Pronic (ardışık iki sayının çarpımına eşit) olup olmadığını bulunuz?\n",
    "sayı = int(input(\"Sayı Giriniz :\"))\n",
    "c=0\n",
    "for i in range(1,sayı+1):\n",
    "    if i*(i+1)==sayı:\n",
    "        c+=1\n",
    "        print(\"pronic sayı\")\n",
    "if c==0:\n",
    "    print(\"Pronic Degil\")\n",
    "        \n",
    "    "
   ]
  },
  {
   "cell_type": "code",
   "execution_count": 4,
   "id": "ae110af1",
   "metadata": {},
   "outputs": [
    {
     "name": "stdout",
     "output_type": "stream",
     "text": [
      "7 ağırlık sol tarafa eklendi Sol kefe ağırlığı şimdi 7. Denge sağ tarafa kaydı. Toplam denge değişim sayısı: 1\n",
      "16 ağırlık sağ tarafa eklendi Sağ kefe ağırlığı şimdi 16. Denge sol tarafa kaydı. Toplam denge değişim sayısı: 2\n",
      "50 ağırlık sol tarafa eklendi Sol kefe ağırlığı şimdi 57. Denge sağ tarafa kaydı. Toplam denge değişim sayısı: 3\n",
      "46 ağırlık sağ tarafa eklendi Sağ kefe ağırlığı şimdi 95. Denge sol tarafa kaydı. Toplam denge değişim sayısı: 4\n",
      "19 ağırlık sol tarafa eklendi Sol kefe ağırlığı şimdi 97. Denge sağ tarafa kaydı. Toplam denge değişim sayısı: 5\n",
      "21 ağırlık sağ tarafa eklendi Sağ kefe ağırlığı şimdi 116. Denge sol tarafa kaydı. Toplam denge değişim sayısı: 6\n",
      "39 ağırlık sol tarafa eklendi Sol kefe ağırlığı şimdi 136. Denge sağ tarafa kaydı. Toplam denge değişim sayısı: 7\n",
      "48 ağırlık sağ tarafa eklendi Sağ kefe ağırlığı şimdi 176. Denge sol tarafa kaydı. Toplam denge değişim sayısı: 8\n",
      "8 ağırlık sol tarafa eklendi Sol kefe ağırlığı şimdi 181. Denge sağ tarafa kaydı. Toplam denge değişim sayısı: 9\n",
      "11 ağırlık sağ tarafa eklendi Sağ kefe ağırlığı şimdi 187. Denge sol tarafa kaydı. Toplam denge değişim sayısı: 10\n",
      "Program sonlandındı :)\n"
     ]
    }
   ],
   "source": [
    "import random\n",
    "\n",
    "sol_kefe_agirligi = 0\n",
    "sag_kefe_agirligi = 0\n",
    "denge_yonu = \"sol\"\n",
    "degisim_sayisi = 0\n",
    "\n",
    "while degisim_sayisi < 10:\n",
    "    agirlik = random.randint(0, 50)\n",
    "    if denge_yonu == \"sol\":\n",
    "        sol_kefe_agirligi += agirlik\n",
    "        if sol_kefe_agirligi > sag_kefe_agirligi:\n",
    "            denge_yonu = \"sag\"\n",
    "            degisim_sayisi += 1\n",
    "            print(str(agirlik) + \" ağırlık sol tarafa eklendi Sol kefe ağırlığı şimdi \" + str(sol_kefe_agirligi) + \". Denge sağ tarafa kaydı. Toplam denge değişim sayısı: \" + str(degisim_sayisi))\n",
    "    else:\n",
    "        sag_kefe_agirligi += agirlik\n",
    "        if sag_kefe_agirligi > sol_kefe_agirligi:\n",
    "            denge_yonu = \"sol\"\n",
    "            degisim_sayisi += 1\n",
    "            print(str(agirlik) + \" ağırlık sağ tarafa eklendi Sağ kefe ağırlığı şimdi \" + str(sag_kefe_agirligi) + \". Denge sol tarafa kaydı. Toplam denge değişim sayısı: \" + str(degisim_sayisi))\n",
    "\n",
    "print(\"Program sonlandındı :)\")"
   ]
  },
  {
   "cell_type": "code",
   "execution_count": 8,
   "id": "f3a04d4e",
   "metadata": {},
   "outputs": [
    {
     "name": "stdout",
     "output_type": "stream",
     "text": [
      "yazı:merhaba naber\n",
      "0\n"
     ]
    }
   ],
   "source": [
    "# Girilen yazıdaki boşluk karakter sayısını bulan program?\n",
    "yazı=input(\"yazı:\")\n",
    "bosluk=0\n",
    "for i in yazı:\n",
    "    if yazı == \" \":\n",
    "        bosluk+=1\n",
    "print(bosluk)\n",
    "        \n"
   ]
  },
  {
   "cell_type": "code",
   "execution_count": 9,
   "id": "3cdafe61",
   "metadata": {},
   "outputs": [
    {
     "name": "stdout",
     "output_type": "stream",
     "text": [
      "1. metni girin: hakan\n",
      "2. metni girin: hakan\n",
      "Girilen metinler eşittir.\n"
     ]
    }
   ],
   "source": [
    "# Girilen iki yazıyı karşılaştıran (eşit olup olmadığını bulan) program?\n",
    "\n",
    "metin1 = input(\"1. metni girin: \")\n",
    "metin2 = input(\"2. metni girin: \")\n",
    "\n",
    "if metin1 == metin2:\n",
    "    print(\"Girilen metinler eşittir.\")\n",
    "else:\n",
    "    print(\"Girilen metinler eşit değildir.\")\n",
    "    \n",
    "    "
   ]
  },
  {
   "cell_type": "code",
   "execution_count": 10,
   "id": "f5efbc14",
   "metadata": {},
   "outputs": [
    {
     "name": "stdout",
     "output_type": "stream",
     "text": [
      "metni giriniz:HAKAN\n",
      "HEPSİ BÜYÜK\n"
     ]
    }
   ],
   "source": [
    "# Girilen yazının büyük yazılıp yazılmadığını bulan program?\n",
    "alfabe=['A', 'B', 'C', 'Ç', 'D', 'E', 'F', 'G', 'Ğ', 'H', 'I', 'İ', 'J', 'K', 'L', 'M', 'N', 'O', 'Ö', 'P', 'R', 'S', 'Ş', 'T', 'U', 'Ü', 'V', 'Y', 'Z']\n",
    "metin=input(\"metni giriniz:\")\n",
    "BHS=0\n",
    "for i in alfabe:\n",
    "    for j in metin:\n",
    "        if i==j:\n",
    "            BHS+=1\n",
    "if BHS==len(metin):\n",
    "    print(\"HEPSİ BÜYÜK\")\n",
    "else:\n",
    "    print(\".\")   "
   ]
  },
  {
   "cell_type": "code",
   "execution_count": 16,
   "id": "c75df691",
   "metadata": {},
   "outputs": [
    {
     "name": "stdout",
     "output_type": "stream",
     "text": [
      "Metni girin: hakan abe gol \n",
      "Karakter k: 2\n",
      "Karakter r: 5\n",
      "Kopyalanan karakterler:  kan\n"
     ]
    }
   ],
   "source": [
    "metin = input(\"Metni girin: \")\n",
    "k = int(input(\"Karakter k: \"))\n",
    "r = int(input(\"Karakter r: \"))\n",
    "\n",
    "kopyalama = metin[k:r]\n",
    "print(\"Kopyalanan karakterler: \", kopyalama)"
   ]
  },
  {
   "cell_type": "code",
   "execution_count": 3,
   "id": "5dd7909a",
   "metadata": {},
   "outputs": [
    {
     "name": "stdout",
     "output_type": "stream",
     "text": [
      "metni giriniz:hakan nasılsın\n",
      "Kelime sayısı: 2\n",
      "Boşluk sayısı: 1\n",
      "Rakam sayısı: 0\n"
     ]
    }
   ],
   "source": [
    "# Girilen yazıdaki kelime, rakam ve karakter sayısını bulan program?\n",
    "metinim = input(\"metni giriniz:\")\n",
    "rakam = ['0', '1', '2', '3', '4', '5', '6', '7', '8', '9']\n",
    "bosluk = 0\n",
    "rakamSayisi = 0\n",
    "\n",
    "for i in metinim:\n",
    "    if i == \" \":\n",
    "        bosluk += 1\n",
    "    elif i in rakam: # \"in\" kullanarak kontrol edilmeli\n",
    "        rakamSayisi += 1\n",
    "\n",
    "kelimeSayisi = len(metinim.split()) # Kelime sayısını bu şekilde hesapla\n",
    "\n",
    "print(\"Kelime sayısı:\", kelimeSayisi)\n",
    "print(\"Boşluk sayısı:\", bosluk)\n",
    "print(\"Rakam sayısı:\", rakamSayisi)"
   ]
  },
  {
   "cell_type": "code",
   "execution_count": null,
   "id": "5501d06b",
   "metadata": {},
   "outputs": [],
   "source": []
  }
 ],
 "metadata": {
  "kernelspec": {
   "display_name": "Python 3 (ipykernel)",
   "language": "python",
   "name": "python3"
  },
  "language_info": {
   "codemirror_mode": {
    "name": "ipython",
    "version": 3
   },
   "file_extension": ".py",
   "mimetype": "text/x-python",
   "name": "python",
   "nbconvert_exporter": "python",
   "pygments_lexer": "ipython3",
   "version": "3.9.12"
  }
 },
 "nbformat": 4,
 "nbformat_minor": 5
}
