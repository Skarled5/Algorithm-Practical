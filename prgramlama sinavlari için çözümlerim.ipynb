{
 "cells": [
  {
   "cell_type": "markdown",
   "id": "cde2d3cb",
   "metadata": {},
   "source": [
    "girilen sayiyi tersine ceviren program"
   ]
  },
  {
   "cell_type": "code",
   "execution_count": 5,
   "id": "d9a143fe",
   "metadata": {},
   "outputs": [
    {
     "name": "stdout",
     "output_type": "stream",
     "text": [
      "sayi=221\n",
      "122\n"
     ]
    }
   ],
   "source": [
    "sayi = int(input('sayi='))\n",
    "a = sayi//100\n",
    "onluk = sayi - a*100\n",
    "b = onluk //10\n",
    "c = sayi - a*100 - b*10    \n",
    "yenisayi = c*100 + b*10 + a\n",
    "print(yenisayi)"
   ]
  },
  {
   "cell_type": "code",
   "execution_count": 4,
   "id": "2a6844e1",
   "metadata": {},
   "outputs": [
    {
     "name": "stdout",
     "output_type": "stream",
     "text": [
      "0    2\n",
      "1    4\n",
      "2    6\n",
      "3    8\n",
      "4    10\n",
      "5    12\n",
      "6    14\n",
      "7    16\n",
      "8    18\n",
      "9    20\n"
     ]
    }
   ],
   "source": [
    "y=2\n",
    "for x in range(10):\n",
    "    print(x,'  ',y)\n",
    "    y=y+2\n"
   ]
  },
  {
   "cell_type": "code",
   "execution_count": 4,
   "id": "647103ad",
   "metadata": {},
   "outputs": [
    {
     "name": "stdout",
     "output_type": "stream",
     "text": [
      "sayi gir:137\n",
      "rakamı gir:7\n",
      "[3, 1]\n"
     ]
    }
   ],
   "source": [
    "#Girilen sayının basamak değerlerinde k rakamı olmayanları listeleyen program?\n",
    "sayi=int(input(\"sayi gir:\"))\n",
    "k=int(input(\"rakamı gir:\"))\n",
    "basamak=0\n",
    "liste=[]\n",
    "while sayi>0:\n",
    "    basamak=sayi%10\n",
    "    if basamak==k:\n",
    "        pass\n",
    "    else:\n",
    "        liste.append(basamak)   \n",
    "    sayi=sayi//10\n",
    "    \n",
    "print(liste)\n",
    "    "
   ]
  },
  {
   "cell_type": "code",
   "execution_count": 2,
   "id": "1ee24235",
   "metadata": {},
   "outputs": [
    {
     "name": "stdout",
     "output_type": "stream",
     "text": [
      "0\n"
     ]
    }
   ],
   "source": [
    "sayi=0\n",
    "sayi=10//20\n",
    "print(sayi)"
   ]
  },
  {
   "cell_type": "code",
   "execution_count": 5,
   "id": "5c96735a",
   "metadata": {},
   "outputs": [
    {
     "name": "stdout",
     "output_type": "stream",
     "text": [
      "sayi:98\n",
      "72\n"
     ]
    }
   ],
   "source": [
    "#Girilen sayının basamak değerleri çarpımını bulunuz?\n",
    "sayi=int(input(\"sayi:\"))\n",
    "carp=1\n",
    "basamak=0\n",
    "while sayi>0:\n",
    "    basamak=sayi%10\n",
    "    carp*=basamak\n",
    "    sayi=sayi//10\n",
    "    \n",
    "print(carp)"
   ]
  },
  {
   "cell_type": "code",
   "execution_count": 6,
   "id": "713e94b8",
   "metadata": {},
   "outputs": [
    {
     "name": "stdout",
     "output_type": "stream",
     "text": [
      "n=20\n",
      "[1, 2, 3, 4, 5, 6, 7, 8, 9, 10, 12, 18, 20]\n"
     ]
    }
   ],
   "source": [
    "#N’e kadar ki Harshad (sayının kendisi rakamları toplamına bölünüyor) olanları listele?\n",
    "n = int(input(\"n=\"))\n",
    "saklama=0\n",
    "liste=[]\n",
    "for sayi in range(1,n+1):\n",
    "    top=0\n",
    "    basamak=0\n",
    "    saklama=sayi\n",
    "    while sayi>0:\n",
    "        basamak=sayi%10\n",
    "        top+=basamak\n",
    "        sayi=sayi//10\n",
    "        \n",
    "    if saklama%top==0:\n",
    "        liste.append(saklama)\n",
    "        \n",
    "print(liste)\n",
    "    \n",
    "    \n",
    "        "
   ]
  },
  {
   "cell_type": "code",
   "execution_count": 7,
   "id": "2231683a",
   "metadata": {},
   "outputs": [
    {
     "name": "stdout",
     "output_type": "stream",
     "text": [
      "metni giriniz:merhaba ben hakan\n",
      "[('m', 1), ('e', 2), ('r', 1), ('h', 2), ('a', 4), ('b', 2), ('a', 1), (' ', 2), ('b', 1), ('e', 1), ('n', 2), (' ', 1), ('h', 1), ('a', 1), ('k', 1), ('a', 1)]\n"
     ]
    }
   ],
   "source": [
    "#Girilen cümlede hangi harfin kaç defa tekrarlandığını bulan prog?\n",
    "metin=input(\"metni giriniz:\")\n",
    "bakildi=[]\n",
    "harfTekrarListesi=[]\n",
    "for i in range(len(metin)-1):\n",
    "    c=1\n",
    "    for j in range(i+1,len(metin)):\n",
    "        if metin[i]==metin[j] and metin[i] not in bakildi:\n",
    "            c+=1\n",
    "    harfTekrarListesi.append((metin[i],c))        \n",
    "    bakildi.append(metin[i])\n",
    "    \n",
    "print(harfTekrarListesi)"
   ]
  },
  {
   "cell_type": "code",
   "execution_count": 10,
   "id": "855c4257",
   "metadata": {},
   "outputs": [
    {
     "name": "stdout",
     "output_type": "stream",
     "text": [
      "yaziyi giriniz:deneme 123\n",
      "6\n"
     ]
    }
   ],
   "source": [
    "yazi=input(\"yaziyi giriniz:\")\n",
    "hs=0\n",
    "for i in yazi:\n",
    "    if 97<=ord(i)<=122 or 65<=ord(i)<=90:\n",
    "        hs+=1\n",
    "        \n",
    "print(hs)"
   ]
  },
  {
   "cell_type": "code",
   "execution_count": 4,
   "id": "34bbd04f",
   "metadata": {},
   "outputs": [
    {
     "name": "stdout",
     "output_type": "stream",
     "text": [
      "Cümle=merhaba\n",
      "3\n",
      "4\n"
     ]
    }
   ],
   "source": [
    "sesli = [\"a\",\"e\",\"i\",\"u\",\"ü\",\"ı\",\"o\",\"ö\"]\n",
    "cumle = input(\"Cümle=\")\n",
    "sk=0 \n",
    "szk=0 \n",
    "for k in cumle:\n",
    "     if ord(\"a\")<=ord(k)<=ord(\"z\"):\n",
    "        if k in sesli: \n",
    "            sk+=1\n",
    "        else:\n",
    "            szk+=1\n",
    "            \n",
    "print(sk)\n",
    "print(szk)"
   ]
  },
  {
   "cell_type": "code",
   "execution_count": 5,
   "id": "c0b823fb",
   "metadata": {},
   "outputs": [
    {
     "name": "stdout",
     "output_type": "stream",
     "text": [
      "          \n",
      "*        *\n",
      "**      **\n",
      "***    ***\n",
      "****  ****\n",
      "**********\n",
      "****  ****\n",
      "***    ***\n",
      "**      **\n",
      "*        *\n",
      "          \n"
     ]
    }
   ],
   "source": [
    "def kelebek_ciz():\n",
    "    m=12\n",
    "    for i in range(6):\n",
    "        m-=2\n",
    "        for j in range(i): # for i in range(6) 0 dan başlıcağı için başta yıldızı basmadan geçer sonra 1 olunca basar o zamanda m=8 olacağı için yıldızdan sonra 8 boşluk bırakabilir !!!\n",
    "            print(\"*\",end=\"\")\n",
    "        for k in range(m):\n",
    "            print(\" \",end=\"\")\n",
    "        for l in range(i):\n",
    "            print(\"*\",end=\"\")\n",
    "        print()\n",
    "    \n",
    "    p=0\n",
    "    for i in range(4,-1,-1):\n",
    "        p+=2\n",
    "        for k in range(i):\n",
    "            print(\"*\",end=\"\")\n",
    "        for j in range(p):\n",
    "            print(\" \",end=\"\")\n",
    "        for l in range(i):\n",
    "            print(\"*\",end=\"\")\n",
    "        print()\n",
    "\n",
    "kelebek_ciz()"
   ]
  },
  {
   "cell_type": "code",
   "execution_count": 37,
   "id": "0c0893c1",
   "metadata": {},
   "outputs": [
    {
     "name": "stdout",
     "output_type": "stream",
     "text": [
      " ************\n",
      "  **********\n",
      "   ********\n",
      "    ******\n",
      "     ****\n",
      "      **\n",
      "       \n"
     ]
    }
   ],
   "source": [
    "m=0\n",
    "for i in range(12,-1,-2):\n",
    "    m+=1\n",
    "    for k in range(m):\n",
    "        print(\" \",end=\"\")\n",
    "    for j in range(i):\n",
    "        print(\"*\",end=\"\")\n",
    "    print()     "
   ]
  },
  {
   "cell_type": "code",
   "execution_count": 38,
   "id": "b2305bd9",
   "metadata": {},
   "outputs": [
    {
     "name": "stdout",
     "output_type": "stream",
     "text": [
      "22\n"
     ]
    }
   ],
   "source": [
    "print(f\"{2}\"*2)"
   ]
  },
  {
   "cell_type": "code",
   "execution_count": 5,
   "id": "2cfa052a",
   "metadata": {},
   "outputs": [
    {
     "name": "stdout",
     "output_type": "stream",
     "text": [
      "1\n",
      "22\n",
      "333\n",
      "4444\n",
      "55555\n",
      "666666\n",
      "7777777\n",
      "88888888\n",
      "999999999\n",
      "10101010101010101010\n"
     ]
    }
   ],
   "source": [
    "for i in range(1,11):\n",
    "    for j in range(i):\n",
    "        print(i,end=\"\")\n",
    "    print()"
   ]
  },
  {
   "cell_type": "code",
   "execution_count": 10,
   "id": "08b24f17",
   "metadata": {},
   "outputs": [
    {
     "name": "stdout",
     "output_type": "stream",
     "text": [
      "1\n",
      "12\n",
      "123\n",
      "1234\n",
      "12345\n",
      "123456\n",
      "1234567\n",
      "12345678\n"
     ]
    }
   ],
   "source": [
    "for i in range(2,10):\n",
    "    for j in range(1,i):\n",
    "        print(j,end=\"\")\n",
    "    print()\n",
    "        "
   ]
  },
  {
   "cell_type": "code",
   "execution_count": 15,
   "id": "129ee6e6",
   "metadata": {},
   "outputs": [
    {
     "name": "stdout",
     "output_type": "stream",
     "text": [
      "999999999\n",
      "88888888\n",
      "7777777\n",
      "666666\n",
      "55555\n",
      "4444\n",
      "333\n",
      "22\n",
      "1\n",
      "\n",
      "1\n",
      "22\n",
      "333\n",
      "4444\n",
      "55555\n",
      "666666\n",
      "7777777\n",
      "88888888\n",
      "999999999\n"
     ]
    }
   ],
   "source": [
    "for i in range(9,-1,-1):\n",
    "    for j in range(i):\n",
    "        print(i,end=\"\")\n",
    "    print()\n",
    "\n",
    "for i in range(1,10):\n",
    "    for j in range(i):\n",
    "        print(i,end=\"\")\n",
    "    print()\n",
    "    "
   ]
  },
  {
   "cell_type": "code",
   "execution_count": 4,
   "id": "520d84b2",
   "metadata": {},
   "outputs": [
    {
     "name": "stdout",
     "output_type": "stream",
     "text": [
      "1\n",
      "23\n",
      "456\n",
      "78910\n"
     ]
    }
   ],
   "source": [
    "sayac=1\n",
    "for i in range(1,5):\n",
    "    for j in range(i):\n",
    "        print(sayac,end=\"\")\n",
    "        sayac+=1\n",
    "    print()"
   ]
  },
  {
   "cell_type": "code",
   "execution_count": 5,
   "id": "6a84e514",
   "metadata": {},
   "outputs": [
    {
     "name": "stdout",
     "output_type": "stream",
     "text": [
      "12345678910\n",
      "11121314151617181920\n",
      "21222324252627282930\n",
      "31323334353637383940\n",
      "41424344454647484950\n",
      "51525354555657585960\n",
      "61626364656667686970\n",
      "71727374757677787980\n",
      "81828384858687888990\n",
      "919293949596979899100\n"
     ]
    }
   ],
   "source": [
    "sayac=1\n",
    "for i in range(10):\n",
    "    for j in range(10):\n",
    "        print(sayac,end=\"\")\n",
    "        sayac+=1\n",
    "    print()"
   ]
  },
  {
   "cell_type": "code",
   "execution_count": 7,
   "id": "1c3ed0ba",
   "metadata": {},
   "outputs": [
    {
     "name": "stdout",
     "output_type": "stream",
     "text": [
      "\n",
      "1\n",
      "12\n",
      "123\n",
      "1234\n",
      "12345\n",
      "123456\n",
      "1234567\n",
      "12345678\n"
     ]
    }
   ],
   "source": [
    "for i in range(1,10):\n",
    "    for j in range(1,i):\n",
    "        print(j,end=\"\")\n",
    "    print()"
   ]
  },
  {
   "cell_type": "code",
   "execution_count": 8,
   "id": "6faf68aa",
   "metadata": {},
   "outputs": [
    {
     "name": "stdout",
     "output_type": "stream",
     "text": [
      "*****\n",
      "*****\n",
      "*****\n",
      "*****\n",
      "*****\n"
     ]
    }
   ],
   "source": [
    "for i in range(5):\n",
    "    for j in range(5):\n",
    "        print(\"*\",end=\"\")\n",
    "    print()"
   ]
  },
  {
   "cell_type": "code",
   "execution_count": 16,
   "id": "5c3b3a35",
   "metadata": {},
   "outputs": [
    {
     "name": "stdout",
     "output_type": "stream",
     "text": [
      " ************\n",
      "  **********\n",
      "   ********\n",
      "    ******\n",
      "     ****\n",
      "      **\n",
      "       \n",
      "     **\n",
      "    ****\n",
      "   ******\n",
      "  ********\n",
      " **********\n",
      "************\n"
     ]
    }
   ],
   "source": [
    "m=0\n",
    "for i in range(12,-1,-2):\n",
    "    m+=1\n",
    "    for k in range(m):\n",
    "        print(\" \",end=\"\")\n",
    "    for j in range(i):\n",
    "        print(\"*\",end=\"\")\n",
    "    print() \n",
    "    \n",
    "k=12//2\n",
    "for t in range(2,13,2):\n",
    "    k-=1\n",
    "    for s in range(k):\n",
    "        print(\" \",end=\"\")\n",
    "    for l in range(t):\n",
    "        print(\"*\",end=\"\")\n",
    "    print()"
   ]
  },
  {
   "cell_type": "code",
   "execution_count": 14,
   "id": "d2abd824",
   "metadata": {},
   "outputs": [
    {
     "name": "stdout",
     "output_type": "stream",
     "text": [
      "sayiyi giriniz:6\n",
      "          \n",
      "*        *\n",
      "**      **\n",
      "***    ***\n",
      "****  ****\n",
      "**********\n",
      "*****  *****\n",
      "****    ****\n",
      "***      ***\n",
      "**        **\n",
      "*          *\n",
      "            \n"
     ]
    }
   ],
   "source": [
    "s=int(input(\"sayiyi giriniz:\"))\n",
    "m=2*s\n",
    "for i in range(s):\n",
    "    m-=2\n",
    "    for j in range(i):\n",
    "        print(\"*\",end=\"\")\n",
    "    for k in range(m):\n",
    "        print(\" \",end=\"\")\n",
    "    for l in range(i):\n",
    "        print(\"*\",end=\"\")\n",
    "    print()\n",
    "    \n",
    "p=0\n",
    "for i in range(s-1,-1,-1):\n",
    "    p+=2\n",
    "    for j in range(i):\n",
    "        print(\"*\",end=\"\")\n",
    "    for k in range(p):\n",
    "        print(\" \",end=\"\")\n",
    "    for l in range(i):\n",
    "        print(\"*\",end=\"\")\n",
    "    print()\n",
    "    "
   ]
  },
  {
   "cell_type": "code",
   "execution_count": 3,
   "id": "114911a0",
   "metadata": {},
   "outputs": [
    {
     "name": "stdout",
     "output_type": "stream",
     "text": [
      "**********\n",
      "****  ****\n",
      "***    ***\n",
      "**      **\n",
      "*        *\n",
      "          \n",
      "**      **\n",
      "***    ***\n",
      "****  ****\n",
      "**********\n"
     ]
    }
   ],
   "source": [
    "m=-2\n",
    "for i in range(5,-1,-1):\n",
    "    m+=2\n",
    "    for j in range(i):\n",
    "        print(\"*\",end=\"\")\n",
    "    for k in range(m):\n",
    "        print(\" \",end=\"\")\n",
    "    for l in range(i):\n",
    "        print(\"*\",end=\"\")\n",
    "    print()\n",
    "p=8\n",
    "for i in range(2,6,1):\n",
    "    p-=2\n",
    "    for j in range(i):\n",
    "        print(\"*\",end=\"\")\n",
    "    for k in range(p):\n",
    "        print(\" \",end=\"\")\n",
    "    for l in range(i):\n",
    "        print(\"*\",end=\"\")\n",
    "    print()\n",
    "    \n",
    "# bu tarz soruların mantığı yıldızı basıp yıldıztan sonra boşluk sayısı olur mesela **123456** \n",
    "#  bu sorudada mesela 2 yıldız basılan yerde bu yöntem uygulanmıştır"
   ]
  },
  {
   "cell_type": "code",
   "execution_count": 7,
   "id": "286ab582",
   "metadata": {},
   "outputs": [
    {
     "name": "stdout",
     "output_type": "stream",
     "text": [
      "[[1, 5], [2, 6], [3, 7], [4, 8]]\n",
      "[10, 26]\n",
      "[6, 8, 10, 12]\n"
     ]
    }
   ],
   "source": [
    "matris=[[1,2,3,4],[5,6,7,8]]\n",
    "satir_T=0\n",
    "sutun_T=0\n",
    "satir=[]\n",
    "sutun=[]\n",
    "\n",
    "for i in range(len(matris)):\n",
    "    transpoze_satir=[]\n",
    "    for j in range(len(matris[0])):\n",
    "        satir_T+=matris[i][j]\n",
    "    satir.append(satir_T)\n",
    "    satir_T=0\n",
    "        \n",
    "transpoze=[]    \n",
    "for i in range(len(matris[0])):\n",
    "    transpoze_satir=[]\n",
    "    for j in range(len(matris)):\n",
    "        transpoze_satir.append(matris[j][i])\n",
    "    transpoze.append(transpoze_satir) \n",
    "    \n",
    "for i in range(len(transpoze)):\n",
    "    for j in range(len(transpoze[0])):\n",
    "        sutun_T+=transpoze[i][j]\n",
    "    sutun.append(sutun_T)\n",
    "    sutun_T=0\n",
    "\n",
    "print(transpoze)\n",
    "print(satir)\n",
    "print(sutun)    "
   ]
  },
  {
   "cell_type": "code",
   "execution_count": 9,
   "id": "dba4d0c0",
   "metadata": {},
   "outputs": [
    {
     "name": "stdout",
     "output_type": "stream",
     "text": [
      "matrise eklenecek sayilar:1\n",
      "matrise eklenecek sayilar:2\n",
      "matrise eklenecek sayilar:3\n",
      "matrise eklenecek sayilar:4\n",
      "matrise eklenecek sayilar:5\n",
      "matrise eklenecek sayilar:6\n",
      "matrise eklenecek sayilar:7\n",
      "matrise eklenecek sayilar:8\n",
      "matrise eklenecek sayilar:9\n",
      "matrise eklenecek sayilar:10\n",
      "matrise eklenecek sayilar:11\n",
      "matrise eklenecek sayilar:12\n",
      "[[1, 2, 3], [4, 5, 6], [7, 8, 9], [10, 11, 12]]\n"
     ]
    }
   ],
   "source": [
    "matrisim=[]\n",
    "for i in range(4):\n",
    "    matrisim_satiri=[]\n",
    "    for j in range(3):\n",
    "        k=int(input(\"matrise eklenecek sayilar:\"))\n",
    "        matrisim_satiri.append(k)\n",
    "    matrisim.append(matrisim_satiri)\n",
    "    \n",
    "print(matrisim)"
   ]
  },
  {
   "cell_type": "code",
   "execution_count": 11,
   "id": "7e501a92",
   "metadata": {},
   "outputs": [
    {
     "name": "stdout",
     "output_type": "stream",
     "text": [
      "[0, 0, 0, 0, 0]\n",
      "[0, 0, 0, 0, 0]\n",
      "[0, 0, 0, 0, 0]\n"
     ]
    }
   ],
   "source": [
    "m=5\n",
    "n=3\n",
    "matris_olustur = [[0 for i in range(m)] for j in range(n)]\n",
    "for satir in matris_olustur:\n",
    "    print(satir)"
   ]
  },
  {
   "cell_type": "code",
   "execution_count": 9,
   "id": "9c0c0628",
   "metadata": {},
   "outputs": [
    {
     "name": "stdout",
     "output_type": "stream",
     "text": [
      "Çarpım Matrisi:\n",
      "[-7, 11]\n",
      "[33, 17]\n"
     ]
    }
   ],
   "source": [
    "# 2 farklı matrisi çarpma\n",
    "# ilk matrisin sütün sayısı ile = ikinci matrisin satır sayısı\n",
    "a = [[1, 2, -1],\n",
    "     [3, 1, 4]]\n",
    "\n",
    "b = [[2, 1],\n",
    "     [-1, 6],\n",
    "     [7, 2]]\n",
    "\n",
    "if len(a[0]) != len(b):\n",
    "    print(\"Matrisler çarpılamaz!\")\n",
    "else:\n",
    "    carpim_matris = []\n",
    "\n",
    "    for i in range(len(a)):\n",
    "        carpim_satir = []\n",
    "        for j in range(len(b[0])):\n",
    "            carpim = 0\n",
    "            for k in range(len(a[0])):\n",
    "                carpim += a[i][k] * b[k][j]\n",
    "            carpim_satir.append(carpim)\n",
    "        carpim_matris.append(carpim_satir)\n",
    "\n",
    "    print(\"Çarpım Matrisi:\")\n",
    "    for row in carpim_matris:\n",
    "        print(row)\n",
    "\n",
    "        \n",
    "# iç içe 3 döngü ile çözdük !!!        "
   ]
  },
  {
   "cell_type": "code",
   "execution_count": 1,
   "id": "492e3bba",
   "metadata": {},
   "outputs": [
    {
     "name": "stdout",
     "output_type": "stream",
     "text": [
      "[[-7, 11], [33, 17]]\n"
     ]
    }
   ],
   "source": [
    "a = [[1, 2, -1],\n",
    "     [3, 1, 4]]\n",
    "\n",
    "b = [[2, 1],\n",
    "     [-1, 6],\n",
    "     [7, 2]]\n",
    "\n",
    "if len(a[0])!=len(b):\n",
    "    print(\"Matrisler Çarpilamaz\")\n",
    "else:\n",
    "    carpim_matris=[]\n",
    "    \n",
    "    for i in range(len(a)):\n",
    "        carpim_satir=[]\n",
    "        for j in range(len(b[0])):\n",
    "            carpim=0\n",
    "            for k in range(len(a[0])):\n",
    "                carpim+=a[i][k]*b[k][j]\n",
    "            carpim_satir.append(carpim)\n",
    "        carpim_matris.append(carpim_satir)\n",
    "        \n",
    "print(carpim_matris)"
   ]
  },
  {
   "cell_type": "code",
   "execution_count": 4,
   "id": "7b60856f",
   "metadata": {},
   "outputs": [
    {
     "name": "stdout",
     "output_type": "stream",
     "text": [
      "[[-7, 11], [33, 17]]\n"
     ]
    }
   ],
   "source": [
    "a = [[1, 2, -1],\n",
    "     [3, 1, 4]]\n",
    "\n",
    "b = [[2, 1],\n",
    "     [-1, 6],\n",
    "     [7, 2]]\n",
    "\n",
    "if len(a[0])!=len(b):\n",
    "    print(\"matrisler çarpılamaz\")\n",
    "else:\n",
    "    carpim_matris = [[0 for i in range(len(b[0]))] for j in range(len(a))]\n",
    "    for k in range(len(a)):\n",
    "        for m in range(len(b[0])):\n",
    "            for s in range(len(a[0])):\n",
    "                carpim_matris[k][m]+=a[k][s]*b[s][m]\n",
    "\n",
    "print(carpim_matris)\n",
    "\n",
    "# BUDA 2 MATRİS CARPIMINDA BAŞKA BİR ÇÖZÜM YOLU !!!"
   ]
  },
  {
   "cell_type": "code",
   "execution_count": 6,
   "id": "bed266b9",
   "metadata": {},
   "outputs": [
    {
     "name": "stdout",
     "output_type": "stream",
     "text": [
      "[[6, 10], [7, 11], [8, 12]]\n"
     ]
    }
   ],
   "source": [
    "matris = [[6,7,8],[10,11,12]]\n",
    "transpoze=[]\n",
    "for i in range(len(matris[0])):\n",
    "    transpoze_satir=[]\n",
    "    for j in range(len(matris)):\n",
    "        transpoze_satir.append(matris[j][i])\n",
    "    transpoze.append(transpoze_satir)\n",
    "print(transpoze)\n",
    "        "
   ]
  },
  {
   "cell_type": "code",
   "execution_count": 3,
   "id": "6a67492c",
   "metadata": {},
   "outputs": [
    {
     "name": "stdout",
     "output_type": "stream",
     "text": [
      "[10, 1, 2, 3, 4, 5, 6, 7, 8, 9]\n",
      "[9, 10, 1, 2, 3, 4, 5, 6, 7, 8]\n",
      "[8, 9, 10, 1, 2, 3, 4, 5, 6, 7]\n",
      "[7, 8, 9, 10, 1, 2, 3, 4, 5, 6]\n",
      "[6, 7, 8, 9, 10, 1, 2, 3, 4, 5]\n"
     ]
    }
   ],
   "source": [
    "liste = [1, 2, 3, 4, 5, 6, 7, 8, 9, 10]\n",
    "k = 5\n",
    "for i in range(k):\n",
    "    new_list = liste[-1:] + liste[:-1]\n",
    "    liste = new_list\n",
    "    print(liste)"
   ]
  },
  {
   "cell_type": "code",
   "execution_count": 6,
   "id": "9570b39e",
   "metadata": {},
   "outputs": [
    {
     "name": "stdout",
     "output_type": "stream",
     "text": [
      "9\n",
      "3\n"
     ]
    }
   ],
   "source": [
    "i = 2\n",
    "i **= 3\n",
    "print(i + 2 // 2)\n",
    "print(i%5)"
   ]
  },
  {
   "cell_type": "code",
   "execution_count": 3,
   "id": "1ac34b2d",
   "metadata": {},
   "outputs": [
    {
     "name": "stdout",
     "output_type": "stream",
     "text": [
      "saati gir:14\n",
      "dakikayı gir:20\n",
      "14 20 geçiyor\n"
     ]
    }
   ],
   "source": [
    "saat=int(input(\"saati gir:\"))\n",
    "dakika=int(input(\"dakikayı gir:\"))\n",
    "if dakika==15:\n",
    "    print(f\"{saat} çeyrek geçiyor\")\n",
    "elif dakika==30:\n",
    "    print(f\"{saat} buçuk geçiyor\")\n",
    "elif dakika<30:\n",
    "    print(f\"{saat} {dakika} geçiyor\")\n",
    "elif dakika == 45:\n",
    "    if saat == 23:\n",
    "        print(f\"Saat 00'a çeyrek var\")\n",
    "    else:\n",
    "        print(f\"Saat {saat+1} çeyrek var\")\n",
    "elif dakika > 30 and dakika < 60:\n",
    "    if saat == 23:\n",
    "        print(f\"Saat 00'a {60-dakika} var\")\n",
    "    else:\n",
    "        print(f\"Saat {saat+1}'ya {60-dakika} var\")\n"
   ]
  },
  {
   "cell_type": "code",
   "execution_count": 3,
   "id": "320190ed",
   "metadata": {},
   "outputs": [
    {
     "name": "stdout",
     "output_type": "stream",
     "text": [
      "[['3 tekrar sayisi 2 tanedir'], ['1 tekrar sayisi 0 tanedir'], ['2 tekrar sayisi 1 tanedir'], ['5 tekrar sayisi 0 tanedir'], ['6 tekrar sayisi 0 tanedir'], ['7 tekrar sayisi 1 tanedir'], ['0 tekrar sayisi 0 tanedir'], ['4 tekrar sayisi 1 tanedir'], ['8 tekrar sayisi 0 tanedir'], ['9 tekrar sayisi 0 tanedir']]\n"
     ]
    }
   ],
   "source": [
    "# Her elemanın tekrar sayısını bulan program?\n",
    "x = [3, 1, 2, 3, 5, 3, 6, 7, 0, 2, 4, 7, 8, 9, 4]\n",
    "eleman_tekrari=[]\n",
    "bakılı=[]\n",
    "for i in range(len(x)-1):\n",
    "    c=0\n",
    "    for j in range(i+1,len(x)):\n",
    "        if x[i]==x[j] and x[i] not in bakılı:\n",
    "            c+=1\n",
    "            \n",
    "    if x[i] not in bakılı:\n",
    "        eleman_tekrari.append([f\"{x[i]} tekrar sayisi {c} tanedir\"])\n",
    "        \n",
    "    bakılı.append(x[i])\n",
    "    \n",
    "print(eleman_tekrari)"
   ]
  },
  {
   "cell_type": "code",
   "execution_count": 1,
   "id": "5ff40937",
   "metadata": {},
   "outputs": [
    {
     "name": "stdout",
     "output_type": "stream",
     "text": [
      "65\n"
     ]
    }
   ],
   "source": [
    "print(ord(\"A\"))"
   ]
  },
  {
   "cell_type": "code",
   "execution_count": null,
   "id": "19c32552",
   "metadata": {},
   "outputs": [],
   "source": []
  }
 ],
 "metadata": {
  "kernelspec": {
   "display_name": "Python 3 (ipykernel)",
   "language": "python",
   "name": "python3"
  },
  "language_info": {
   "codemirror_mode": {
    "name": "ipython",
    "version": 3
   },
   "file_extension": ".py",
   "mimetype": "text/x-python",
   "name": "python",
   "nbconvert_exporter": "python",
   "pygments_lexer": "ipython3",
   "version": "3.9.12"
  }
 },
 "nbformat": 4,
 "nbformat_minor": 5
}
