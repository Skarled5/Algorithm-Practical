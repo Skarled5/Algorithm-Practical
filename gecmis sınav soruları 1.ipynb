{
 "cells": [
  {
   "cell_type": "code",
   "execution_count": 1,
   "id": "8672cf60",
   "metadata": {},
   "outputs": [
    {
     "data": {
      "text/plain": [
       "2"
      ]
     },
     "execution_count": 1,
     "metadata": {},
     "output_type": "execute_result"
    }
   ],
   "source": [
    "def bs(B):\n",
    "    t = 0\n",
    "    for x in range(1, len(B)):\n",
    "        if B[x] > B[t]:\n",
    "            t = x\n",
    "    return t\n",
    "\n",
    "bs([5, 3, 9, 2, 7, 1])"
   ]
  },
  {
   "cell_type": "code",
   "execution_count": 2,
   "id": "6fae5c01",
   "metadata": {},
   "outputs": [
    {
     "name": "stdout",
     "output_type": "stream",
     "text": [
      "A dizisi: [16, 61, 23, 12, 42, 10, 95, 97, 96, 96]\n",
      "m değeri: 9\n"
     ]
    }
   ],
   "source": [
    "import random\n",
    "\n",
    "A = [0] * 10\n",
    "n = 0\n",
    "m = 10\n",
    "random.seed()\n",
    "\n",
    "for i in range(m):\n",
    "    A[i] = random.randint(0, 99)\n",
    "\n",
    "def bs(B, r):\n",
    "    x = 0\n",
    "    t = 0\n",
    "    for x in range(1, r):\n",
    "        if B[x] > B[t]:\n",
    "            t = x\n",
    "    return t\n",
    "\n",
    "n = bs(A, m)\n",
    "\n",
    "for i in range(n + 1, m):\n",
    "    A[i - 1] = A[i]\n",
    "\n",
    "m -= 1\n",
    "\n",
    "print(\"A dizisi:\", A)\n",
    "print(\"m değeri:\", m)"
   ]
  },
  {
   "cell_type": "code",
   "execution_count": 3,
   "id": "8a057d1f",
   "metadata": {},
   "outputs": [
    {
     "name": "stdout",
     "output_type": "stream",
     "text": [
      "En büyük ortak bölen: 12\n"
     ]
    }
   ],
   "source": [
    "def gcd(m, n):\n",
    "    if m < n:\n",
    "        t = m\n",
    "        m = n\n",
    "        n = t\n",
    "\n",
    "    r = m % n\n",
    "\n",
    "    if r == 0:\n",
    "        return n\n",
    "    else:\n",
    "        return gcd(n, r)\n",
    "\n",
    "# Test için örnek kullanım:\n",
    "result = gcd(36, 48)\n",
    "print(\"En büyük ortak bölen:\", result)"
   ]
  },
  {
   "cell_type": "code",
   "execution_count": 4,
   "id": "b71922c9",
   "metadata": {},
   "outputs": [
    {
     "name": "stdout",
     "output_type": "stream",
     "text": [
      "[[88, [], [], [], [], 43], [[], 69, [], [], 44, []], [[], [], 80, 7, [], []], [[], [], 51, 50, [], []], [[], 46, [], [], 73, []], [28, [], [], [], [], 4]]\n",
      "[[88, [], [], [], [], 88], [[], 69, [], [], 69, 44], [[], [], 80, 80, [], 7], [[], [], 50, 50, [], 51], [[], 73, [], [], 73, 46], [4, [], [], [], [], 28]]\n"
     ]
    }
   ],
   "source": [
    "sutun=6\n",
    "satır=6\n",
    "matris = [[ [] for i in range(sutun)] for j in range(satır)]\n",
    "\n",
    "for k in range(sutun):\n",
    "    matris[k][k] = random.randint(0, 100)\n",
    "    matris[k][sutun-k-1] = random.randint(0, 100)\n",
    "    \n",
    "print(matris)\n",
    "    \n",
    "for t in range(sutun):\n",
    "    matris[t][k],matris[t][sutun-t-1]=matris[t][sutun-t-1],matris[t][t]\n",
    "    \n",
    "print(matris)\n",
    "    "
   ]
  },
  {
   "cell_type": "markdown",
   "id": "f3fa2a82",
   "metadata": {},
   "source": [
    "## solKefe=0\n",
    "sagKefe=0\n",
    "A=int(input('A:'))\n",
    "B=int(input('B:'))\n",
    "C=int(input('C:'))\n",
    "solKefe+=A\n",
    "sagKefe+=(C+B)\n",
    "fark=abs(sagKefe-solKefe)\n",
    "\n",
    "\n",
    "for i in range(fark):\n",
    "    x=int(input('x:'))\n",
    "    if 3*x<fark and sagKefe>solKefe:\n",
    "        print(x)\n"
   ]
  },
  {
   "cell_type": "code",
   "execution_count": 8,
   "id": "be50468a",
   "metadata": {},
   "outputs": [
    {
     "name": "stdout",
     "output_type": "stream",
     "text": [
      "17 0\n",
      "17 27\n",
      "17 27\n",
      "51 27\n",
      "51 27\n",
      "51 46\n",
      "51 61\n",
      "79 61\n",
      "79 61\n",
      "79 75\n",
      "79 100\n",
      "125 100\n",
      "125 100\n",
      "125 124\n",
      "125 134\n",
      "144 134\n",
      "144 134\n",
      "144 152\n",
      "144 152\n"
     ]
    }
   ],
   "source": [
    "sol=0\n",
    "sag=0\n",
    "denge_degisimi=0\n",
    "sol+=random.randint(0,50)\n",
    "while(denge_degisimi<=10):\n",
    "    if sol>sag:\n",
    "        denge_degisimi+=1\n",
    "        print(sol,sag)\n",
    "        sag+=random.randint(0,50)\n",
    "        print(sol,sag)\n",
    "        if sag>sol:\n",
    "            denge_degisimi+=1\n",
    "            print(sol,sag)\n",
    "        else:\n",
    "            sag += random.randint(0,50)\n",
    "            print(sol,sag)\n",
    "    \n",
    "    else:\n",
    "        sol+=random.randint(0,50)\n",
    "        if sol>sag:\n",
    "            denge_degisimi+=1\n",
    "            print(sol,sag)\n",
    "        else:\n",
    "            sol+=random.randint(0,50)\n",
    "            print(sol,sag)"
   ]
  },
  {
   "cell_type": "code",
   "execution_count": 7,
   "id": "f66b629f",
   "metadata": {},
   "outputs": [
    {
     "name": "stdout",
     "output_type": "stream",
     "text": [
      "Sol kefe ağır, denge sağa doğru değişti.\n",
      "Sol kefe: 50 Sag kefe: 8\n",
      "Sol kefe: 50 Sag kefe: 31\n",
      "Sol kefe ağır, denge sağa doğru değişti.\n",
      "Sol kefe: 50 Sag kefe: 77\n",
      "Sağ kefe ağır, denge sola doğru değişti.\n",
      "Sol kefe: 50 Sag kefe: 77\n",
      "Sol kefe: 104 Sag kefe: 77\n",
      "Sol kefe ağır, denge sağa doğru değişti.\n",
      "Sol kefe: 104 Sag kefe: 86\n",
      "Sol kefe: 104 Sag kefe: 98\n",
      "Sol kefe ağır, denge sağa doğru değişti.\n",
      "Sol kefe: 104 Sag kefe: 113\n",
      "Sağ kefe ağır, denge sola doğru değişti.\n",
      "Sol kefe: 104 Sag kefe: 113\n",
      "Sol kefe ağır, denge sağa doğru değişti.\n",
      "Sol kefe: 123 Sag kefe: 113\n",
      "Sol kefe ağır, denge sağa doğru değişti.\n",
      "Sol kefe: 123 Sag kefe: 156\n",
      "Sağ kefe ağır, denge sola doğru değişti.\n",
      "Sol kefe: 123 Sag kefe: 156\n",
      "Sol kefe ağır, denge sağa doğru değişti.\n",
      "Sol kefe: 167 Sag kefe: 156\n",
      "Sol kefe ağır, denge sağa doğru değişti.\n",
      "Sol kefe: 167 Sag kefe: 206\n",
      "Sağ kefe ağır, denge sola doğru değişti.\n",
      "Sol kefe: 167 Sag kefe: 206\n"
     ]
    }
   ],
   "source": [
    "import random\n",
    "\n",
    "sol = 0\n",
    "sag = 0\n",
    "denge_degisimi = 0\n",
    "\n",
    "sol += random.randint(0, 50)\n",
    "\n",
    "while denge_degisimi <= 10:\n",
    "    if sol > sag:\n",
    "        denge_degisimi += 1\n",
    "        print(\"Sol kefe ağır, denge sağa doğru değişti.\")\n",
    "        sag += random.randint(0, 50)\n",
    "        print(\"Sol kefe:\", sol, \"Sag kefe:\", sag)\n",
    "        if sag > sol:\n",
    "            denge_degisimi += 1\n",
    "            print(\"Sağ kefe ağır, denge sola doğru değişti.\")\n",
    "            print(\"Sol kefe:\", sol, \"Sag kefe:\", sag)\n",
    "        else:\n",
    "            sag += random.randint(0, 50)\n",
    "            print(\"Sol kefe:\", sol, \"Sag kefe:\", sag)\n",
    "\n",
    "    else:\n",
    "        sol += random.randint(0, 50)\n",
    "        if sol > sag:\n",
    "            denge_degisimi += 1\n",
    "            print(\"Sol kefe ağır, denge sağa doğru değişti.\")\n",
    "            print(\"Sol kefe:\", sol, \"Sag kefe:\", sag)\n",
    "        else:\n",
    "            sol += random.randint(0, 50)\n",
    "            print(\"Sol kefe:\", sol, \"Sag kefe:\", sag)"
   ]
  },
  {
   "cell_type": "code",
   "execution_count": 9,
   "id": "40614c77",
   "metadata": {},
   "outputs": [
    {
     "name": "stdout",
     "output_type": "stream",
     "text": [
      "Muzlu süt miktarını girin: 120\n",
      "Çilekli süt miktarını girin: 240\n",
      "Muzlu aroma miktarı: 480\n",
      "Çilek aroma miktarı: 720\n"
     ]
    }
   ],
   "source": [
    "muzlu_süt_miktarı = int(input('Muzlu süt miktarını girin: '))\n",
    "cilekli_süt_miktarı = int(input('Çilekli süt miktarını girin: '))\n",
    "\n",
    "muzlu_aroma_oranı = 4\n",
    "cilek_aroma_oranı = 3\n",
    "\n",
    "muzlu_aroma_miktarı = muzlu_süt_miktarı * muzlu_aroma_oranı\n",
    "cilek_aroma_miktarı = cilekli_süt_miktarı * cilek_aroma_oranı\n",
    "\n",
    "print(\"Muzlu aroma miktarı:\", muzlu_aroma_miktarı)\n",
    "print(\"Çilek aroma miktarı:\", cilek_aroma_miktarı)"
   ]
  },
  {
   "cell_type": "code",
   "execution_count": 11,
   "id": "58f869e6",
   "metadata": {},
   "outputs": [
    {
     "name": "stdout",
     "output_type": "stream",
     "text": [
      "Kısa kenarı girin (cm): 2\n",
      "Kağıt sayısını girin: 4\n",
      "1. kağıt eklendiğinde alan: 4.00 cm^2\n",
      "2. kağıt eklendiğinde alan: 8.00 cm^2\n",
      "3. kağıt eklendiğinde alan: 12.00 cm^2\n",
      "4. kağıt eklendiğinde alan: 16.00 cm^2\n",
      "\n",
      "Toplam alan: 40.00 cm^2\n"
     ]
    }
   ],
   "source": [
    "x = float(input(\"Kısa kenarı girin (cm): \"))\n",
    "n = int(input(\"Kağıt sayısını girin: \"))\n",
    "\n",
    "area = 0\n",
    "for i in range(n):\n",
    "    \n",
    "    uzun_kenar = x + i * 2\n",
    "\n",
    "    \n",
    "    dikdortgen_alan = x * uzun_kenar\n",
    "    area += dikdortgen_alan\n",
    "\n",
    "    print(f\"{i + 1}. kağıt eklendiğinde alan: {dikdortgen_alan:.2f} cm^2\")\n",
    "\n",
    "print(f\"\\nToplam alan: {area:.2f} cm^2\")"
   ]
  },
  {
   "cell_type": "code",
   "execution_count": 21,
   "id": "8b333bae",
   "metadata": {},
   "outputs": [
    {
     "name": "stdout",
     "output_type": "stream",
     "text": [
      "arazi alanı giriniz:1000\n",
      "arazi alanı giriniz:1000\n",
      "arazi alanı giriniz:1000\n",
      "arazi alanı giriniz:1000\n",
      "arazi alanı giriniz:1000\n",
      "arazi alanı giriniz:1000\n",
      "depo:3000\n",
      "L\n"
     ]
    }
   ],
   "source": [
    "araziler=[]\n",
    "arazi_adı=['K','L','N','P','R','S']\n",
    "for i in range(6):\n",
    "    n=int(input(\"arazi alanı giriniz:\"))\n",
    "    araziler.append(n)\n",
    "\n",
    "c=0\n",
    "depo=int(input('depo:'))\n",
    "\n",
    "for i in range(len(araziler)):\n",
    "    if depo<=2500:\n",
    "        break\n",
    "    while(depo>=2500 and araziler[i] > 0):\n",
    "        araziler[i]-=300\n",
    "        if araziler[i] % 300 != 0 and araziler[i] < 300:\n",
    "            result = araziler[i]%300\n",
    "            araziler[i]-= result\n",
    "            \n",
    "        depo-=150\n",
    "        c+=1\n",
    "        \n",
    "print(arazi_adı[i-1])\n",
    "        \n",
    "        \n",
    "        "
   ]
  },
  {
   "cell_type": "code",
   "execution_count": 9,
   "id": "6ad65c16",
   "metadata": {},
   "outputs": [
    {
     "name": "stdout",
     "output_type": "stream",
     "text": [
      "Kelimeyi Giriniz: programlama\n",
      "Yeni kelime: prXgrXmlXmX\n",
      "4 defa yer değiştirme işlemi yapıldı.\n"
     ]
    }
   ],
   "source": [
    "def HarfDonustur(kelime):\n",
    "    sesli_harfler = ['A', 'E', 'I', 'İ', 'O', 'Ö', 'U', 'Ü', 'a', 'e', 'ı', 'i', 'o', 'ö', 'u', 'ü']\n",
    "    yeni_kelime = \"\"\n",
    "\n",
    "    if len(kelime) > 20:\n",
    "        print('LÜTFEN EN FAZLA 20 KARAKTERDEN OLUŞTURUN !')\n",
    "    else:\n",
    "        c = 0\n",
    "        for karakter in kelime:\n",
    "            if karakter in sesli_harfler:\n",
    "                yeni_kelime += 'X'\n",
    "                c += 1\n",
    "            else:\n",
    "                yeni_kelime += karakter\n",
    "\n",
    "        print(\"Yeni kelime:\", yeni_kelime)\n",
    "        print(f\"{c} defa yer değiştirme işlemi yapıldı.\")\n",
    "\n",
    "kelime = input(\"Kelimeyi Giriniz: \")\n",
    "HarfDonustur(kelime)      "
   ]
  },
  {
   "cell_type": "code",
   "execution_count": 2,
   "id": "1be278e0",
   "metadata": {},
   "outputs": [
    {
     "name": "stdout",
     "output_type": "stream",
     "text": [
      "Programlamada uzmanlaşmak isteyen bir kişinin çok sayida soru çözmesi gerekir Bu aşamayi sadece sebatkâr öğrenciler geçer İkinci problem sorunun anlaşilmasidir Dikkatini verenler bu aşamayi rahatlikla geçer Üçüncü aşamada anlaşilan sorunun çözüm basamaklarinin ortaya çikarilmasidir Bir kâğit ve bir kalem bu güçlüğü aşmak için yeterlidir Belirlenen çözüm basamaklarinin kod bloklarina dönüşümü en kolay aşama olarak görülür\n"
     ]
    }
   ],
   "source": [
    "def metin(S):\n",
    "    YS=''\n",
    "    noktalama=['!',',','?','.',';']\n",
    "    for i in range(len(S)):\n",
    "        if not S[i] in noktalama :\n",
    "            YS+=S[i]\n",
    "    \n",
    "    return YS\n",
    "        \n",
    "\n",
    "YS_cıktı=metin('Programlamada uzmanlaşmak isteyen bir kişinin çok sayida soru çözmesi gerekir! Bu aşamayi sadece sebatkâr öğrenciler geçer? İkinci problem sorunun anlaşilmasidir, Dikkatini verenler bu aşamayi rahatlikla geçer. Üçüncü aşamada anlaşilan sorunun çözüm basamaklarinin ortaya çikarilmasidir. Bir kâğit ve bir kalem bu güçlüğü aşmak için yeterlidir; Belirlenen çözüm basamaklarinin kod bloklarina dönüşümü en kolay aşama olarak görülür.')\n",
    "            \n",
    "print(YS_cıktı)     \n",
    "    "
   ]
  },
  {
   "cell_type": "code",
   "execution_count": 3,
   "id": "b2a734c2",
   "metadata": {},
   "outputs": [
    {
     "name": "stdout",
     "output_type": "stream",
     "text": [
      "['Programlamada', 'uzmanlaşmak', 'isteyen', 'bir', 'kişinin', 'çok', 'sayida', 'soru', 'çözmesi', 'gerekir', 'Bu', 'aşamayi', 'sadece', 'sebatkâr', 'öğrenciler', 'geçer', 'İkinci', 'problem', 'sorunun', 'anlaşilmasidir', 'Dikkatini', 'verenler', 'bu', 'aşamayi', 'rahatlikla', 'geçer', 'Üçüncü', 'aşamada', 'anlaşilan', 'sorunun', 'çözüm', 'basamaklarinin', 'ortaya', 'çikarilmasidir', 'Bir', 'kâğit', 've', 'bir', 'kalem', 'bu', 'güçlüğü', 'aşmak', 'için', 'yeterlidir', 'Belirlenen', 'çözüm', 'basamaklarinin', 'kod', 'bloklarina', 'dönüşümü', 'en', 'kolay', 'aşama', 'olarak', 'görülür']\n"
     ]
    }
   ],
   "source": [
    "KelimeListe = []\n",
    "kelime_baslangici = 0\n",
    "\n",
    "for i in range(len(YS_cıktı)):\n",
    "    if YS_cıktı[i] == ' ':\n",
    "        kelime = YS_cıktı[kelime_baslangici:i]\n",
    "        KelimeListe.append(kelime)\n",
    "        kelime_baslangici = i + 1\n",
    "        \n",
    "son_kelime = YS_cıktı[kelime_baslangici:]\n",
    "KelimeListe.append(son_kelime)\n",
    "\n",
    "print(KelimeListe)\n",
    "        "
   ]
  },
  {
   "cell_type": "code",
   "execution_count": null,
   "id": "29227c99",
   "metadata": {},
   "outputs": [],
   "source": []
  },
  {
   "cell_type": "code",
   "execution_count": null,
   "id": "5662a38c",
   "metadata": {},
   "outputs": [],
   "source": []
  }
 ],
 "metadata": {
  "kernelspec": {
   "display_name": "Python 3 (ipykernel)",
   "language": "python",
   "name": "python3"
  },
  "language_info": {
   "codemirror_mode": {
    "name": "ipython",
    "version": 3
   },
   "file_extension": ".py",
   "mimetype": "text/x-python",
   "name": "python",
   "nbconvert_exporter": "python",
   "pygments_lexer": "ipython3",
   "version": "3.9.12"
  }
 },
 "nbformat": 4,
 "nbformat_minor": 5
}
