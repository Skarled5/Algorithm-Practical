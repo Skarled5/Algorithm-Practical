{
 "cells": [
  {
   "cell_type": "code",
   "execution_count": 1,
   "id": "1088d953",
   "metadata": {},
   "outputs": [
    {
     "name": "stdout",
     "output_type": "stream",
     "text": [
      "x:1\n",
      "3\n"
     ]
    }
   ],
   "source": [
    "dizi = [3,0,-2,7,10]\n",
    "x=int(input(\"x:\"))\n",
    "p=dizi[0]*(x**4)\n",
    "print(p)"
   ]
  },
  {
   "cell_type": "code",
   "execution_count": 2,
   "id": "b6048ee9",
   "metadata": {},
   "outputs": [
    {
     "name": "stdout",
     "output_type": "stream",
     "text": [
      "m:3\n",
      "n:1\n",
      "1. matrisin (1,1) elemanını girin: 1\n",
      "1. matrisin (2,1) elemanını girin: 2\n",
      "1. matrisin (3,1) elemanını girin: 3\n",
      "[[1], [2], [3]]\n"
     ]
    },
    {
     "ename": "IndexError",
     "evalue": "list index out of range",
     "output_type": "error",
     "traceback": [
      "\u001b[1;31m---------------------------------------------------------------------------\u001b[0m",
      "\u001b[1;31mIndexError\u001b[0m                                Traceback (most recent call last)",
      "Input \u001b[1;32mIn [2]\u001b[0m, in \u001b[0;36m<cell line: 14>\u001b[1;34m()\u001b[0m\n\u001b[0;32m     15\u001b[0m     m_transpoze\u001b[38;5;241m=\u001b[39m[]\n\u001b[0;32m     16\u001b[0m     \u001b[38;5;28;01mfor\u001b[39;00m j \u001b[38;5;129;01min\u001b[39;00m \u001b[38;5;28mrange\u001b[39m(\u001b[38;5;28mlen\u001b[39m(matris[\u001b[38;5;241m0\u001b[39m])):\n\u001b[1;32m---> 17\u001b[0m         m_transpoze\u001b[38;5;241m.\u001b[39mappend(\u001b[43mmatris\u001b[49m\u001b[43m[\u001b[49m\u001b[43mj\u001b[49m\u001b[43m]\u001b[49m\u001b[43m[\u001b[49m\u001b[43mi\u001b[49m\u001b[43m]\u001b[49m)\n\u001b[0;32m     19\u001b[0m     transpoze\u001b[38;5;241m.\u001b[39mappend(m_transpoze)\n\u001b[0;32m     21\u001b[0m \u001b[38;5;28mprint\u001b[39m(transpoze)\n",
      "\u001b[1;31mIndexError\u001b[0m: list index out of range"
     ]
    }
   ],
   "source": [
    "m=int(input(\"m:\"))\n",
    "n=int(input(\"n:\"))\n",
    "matris = []\n",
    "for i in range(m):\n",
    "    satır=[]\n",
    "    for j in range(n):\n",
    "        eleman = int(input(f\"1. matrisin ({i+1},{j+1}) elemanını girin: \"))\n",
    "        satır.append(eleman)\n",
    "    matris.append(satır)\n",
    "    \n",
    "print(matris)\n",
    "\n",
    "transpoze = []\n",
    "for i in range(len(matris)):\n",
    "    m_transpoze=[]\n",
    "    for j in range(len(matris[0])):\n",
    "        m_transpoze.append(matris[j][i])\n",
    "        \n",
    "    transpoze.append(m_transpoze)\n",
    "    \n",
    "print(transpoze)\n",
    "    \n",
    "        "
   ]
  },
  {
   "cell_type": "code",
   "execution_count": null,
   "id": "4396b3e5",
   "metadata": {},
   "outputs": [],
   "source": [
    "def aritmetik_ortalama(A, n):\n",
    "    if n == 1:\n",
    "        return A[0]\n",
    "    else:\n",
    "        return ((n - 1) * aritmetik_ortalama(A, n - 1) + A[n - 1]) / n\n",
    "\n",
    "# Test için örnek bir dizi oluşturalım ve fonksiyonu çağıralım\n",
    "dizi = [2, 4, 6, 8, 10]\n",
    "n = len(dizi)\n",
    "ort = aritmetik_ortalama(dizi, n)\n",
    "print(\"Dizinin aritmetik ortalaması:\", ort)"
   ]
  },
  {
   "cell_type": "code",
   "execution_count": null,
   "id": "a41abd21",
   "metadata": {},
   "outputs": [],
   "source": [
    "sayı = int(input(\"sayı:\"))\n",
    "ozel = [[10,\"A\"],[11,\"B\"],[12,\"C\"],[13,\"D\"],[14,\"E\"],[15,\"F\"]]\n",
    "\n",
    "liste = []\n",
    "while sayı>0:\n",
    "    kalan = sayı%16\n",
    "    sayı = sayı//16\n",
    "    if kalan>9:\n",
    "        for i in range(len(ozel)):\n",
    "            if ozel[i][0] == kalan:\n",
    "                liste.append(ozel[i][1])\n",
    "    else:\n",
    "        liste.append(kalan)\n",
    "\n",
    "    \n",
    "liste.reverse()\n",
    "\n",
    "        \n",
    "print(liste)\n",
    "    \n",
    "    "
   ]
  },
  {
   "cell_type": "code",
   "execution_count": null,
   "id": "72f00f8c",
   "metadata": {},
   "outputs": [],
   "source": [
    "n=int(input(\"n:\"))\n",
    "for i in range(10):\n",
    "    n=n*1.8\n",
    "    n+=(n*2)\n",
    "\n",
    "print(n)\n",
    "    "
   ]
  },
  {
   "cell_type": "code",
   "execution_count": null,
   "id": "515890e5",
   "metadata": {},
   "outputs": [],
   "source": [
    "x=int(input(\"x:\"))\n",
    "y=int(input(\"y:\"))\n",
    "z=int(input(\"z:\"))\n",
    "mini=x\n",
    "\n",
    "if x>y and y<z:\n",
    "    mini=y\n",
    "if x>z and z<y:\n",
    "    mini=z\n",
    "    \n",
    "x=(x//mini)+1\n",
    "y=(y//mini)+1\n",
    "z=(z//mini)+1\n",
    "\n",
    "print(str(x*\"*\"))\n",
    "print(str(y*\"*\"))\n",
    "print(str(z*\"*\"))"
   ]
  },
  {
   "cell_type": "code",
   "execution_count": null,
   "id": "4a5dfc7c",
   "metadata": {},
   "outputs": [],
   "source": [
    "def UcEleman(D, k):\n",
    "    if k % 3 != 0:\n",
    "        raise ValueError(\"k, 3'ün katı olmalıdır.\")\n",
    "    \n",
    "    for i in range(2, k, 3):\n",
    "        D[i] = D[i] + D[i - 1] + D[i - 2]\n",
    "\n",
    "# Örnek kullanım:\n",
    "D = [1, 2, 3, 4, 5, 6, 7, 8, 9, 10]  # D dizisi\n",
    "k = 9  # k değeri (3 * r)\n",
    "\n",
    "UcEleman(D, k)\n",
    "print(\"D dizisi:\", D)"
   ]
  },
  {
   "cell_type": "code",
   "execution_count": null,
   "id": "e6e1e202",
   "metadata": {},
   "outputs": [],
   "source": [
    "def bolenleri_bul(n, i):\n",
    "    if i > n:\n",
    "        return\n",
    "    \n",
    "    if n % i == 0:\n",
    "        print(i)\n",
    "    \n",
    "    bolenleri_bul(n, i + 1)\n",
    "\n",
    "def bolenleri_yaz(n):\n",
    "    print(f\"{n} sayısının bölenleri:\")\n",
    "    bolenleri_bul(n, 1)\n",
    "\n",
    "# Örnek kullanım:\n",
    "n = int(input(\"Bir tamsayı girin: \"))\n",
    "bolenleri_yaz(n)"
   ]
  },
  {
   "cell_type": "code",
   "execution_count": null,
   "id": "315d828e",
   "metadata": {},
   "outputs": [],
   "source": [
    "def aaa(b, c):\n",
    "    r = c\n",
    "    while r != 0:\n",
    "        r = b % c\n",
    "        b = c\n",
    "        c = r\n",
    "        # EBOB (En Büyük Ortak Bölen) bulma algoritması olan Euclidean Algorithm\n",
    "    return b\n",
    "\n",
    "b = 15\n",
    "c = 12\n",
    "result = aaa(b, c)\n",
    "print(f\"{b} ve {c} arasındaki en büyük ortak bölen (EBOB):\", result)"
   ]
  },
  {
   "cell_type": "code",
   "execution_count": null,
   "id": "683fe704",
   "metadata": {},
   "outputs": [],
   "source": [
    "def AYAK(A, n):\n",
    "    if n == 0:\n",
    "        return 0\n",
    "    else:\n",
    "        return A[n] + AYAK(A, n-1) # 11+3+4+ ..... deva meder A[n]:11 alır  AYAK(A,n-1) ise 3,4,89,0...\n",
    "\n",
    "def main():\n",
    "    B = [12, 4, 5, 3, 67, 0, 89, 4, 3, 11]\n",
    "    y = AYAK(B, 9)\n",
    "    print(f\"\\n\\nSonuç\\t=\\t{y}\\nve\\nO\\t=\\t{y/12} olur.\")\n",
    "\n",
    "if __name__ == \"__main__\":\n",
    "    main()"
   ]
  },
  {
   "cell_type": "code",
   "execution_count": null,
   "id": "d346df64",
   "metadata": {},
   "outputs": [],
   "source": [
    "def ogrenci_ekle(ad, soyad, dogum_tarihi):\n",
    "    sinif=[]\n",
    "    \n",
    "    if len(sinif) < 30:\n",
    "        sinif.append([ad, soyad, dogum_tarihi])\n",
    "        print(\"Öğrenci başarıyla eklendi.\")\n",
    "    else:\n",
    "        print(\"Sınıf dolu, yeni öğrenci eklenemiyor.\")\n",
    "\n",
    "\n",
    "ogrenci_ekle(\"Ahmet\", \"Yılmaz\", \"2005-05-12\")\n",
    "ogrenci_ekle(\"Ayşe\", \"Kara\", \"2004-09-25\")"
   ]
  },
  {
   "cell_type": "code",
   "execution_count": null,
   "id": "4ff5766d",
   "metadata": {},
   "outputs": [],
   "source": [
    "def aaa(n):\n",
    "    B = [0] * 100\n",
    "    i = k = 0\n",
    "\n",
    "    while n > 0:\n",
    "        B[k] = n % 10\n",
    "        k += 1\n",
    "        n //= 10\n",
    "\n",
    "    k -= 1\n",
    "    while k > 0:\n",
    "        print(\"1\", end=\"\")\n",
    "        for i in range(k):\n",
    "            print(\"0\", end=\"\")\n",
    "        print(f\"x{B[k]}+\", end=\"\")\n",
    "        k -= 1\n",
    "\n",
    "    print(f\"1x{B[k]}\")\n",
    "\n",
    "def main():\n",
    "    n = 145\n",
    "    aaa(n)\n",
    "\n",
    "if __name__ == \"__main__\":\n",
    "    main()\n",
    "    \n",
    "# program main fonksiyonu giriş fonksiyonudur yani onla başlar\n",
    "    \n",
    "# 2018 vize 1.sorusu"
   ]
  },
  {
   "cell_type": "code",
   "execution_count": null,
   "id": "5c10a77f",
   "metadata": {},
   "outputs": [],
   "source": [
    "temp=0\n",
    "x=5\n",
    "y=10\n",
    "temp=x\n",
    "x=y\n",
    "y=temp\n",
    "print(x)\n",
    "print(y)"
   ]
  },
  {
   "cell_type": "code",
   "execution_count": null,
   "id": "62ef2dfd",
   "metadata": {},
   "outputs": [],
   "source": [
    "x=123,6857\n",
    "x=str(x)\n",
    "for i in x:\n",
    "    print(x[(len(x)-5):(len(x)-2)])\n",
    "    break"
   ]
  },
  {
   "cell_type": "code",
   "execution_count": null,
   "id": "5ea7959b",
   "metadata": {},
   "outputs": [],
   "source": [
    "\n",
    "def c():\n",
    "    return 10\n",
    "\n",
    "def b(v):\n",
    "    v[0] = 7 * v[0] + c()\n",
    "\n",
    "def a(m):\n",
    "    p = m[0]\n",
    "    b([p])\n",
    "    m[0] = 4 * m[0] * m[0] + p\n",
    "\n",
    "def main():\n",
    "    y = [5]\n",
    "    a(y)\n",
    "    print(f\"Sonuç={y[0]}\")\n",
    "\n",
    "if __name__ == \"__main__\":\n",
    "    main()"
   ]
  },
  {
   "cell_type": "code",
   "execution_count": null,
   "id": "5576af8e",
   "metadata": {},
   "outputs": [],
   "source": [
    "def minmax(dizi,i,j):\n",
    "    maxi=1\n",
    "    mini=0\n",
    "    if len(dizi)<2:\n",
    "        return dizi\n",
    "    \n",
    "    elif dizi[i][j]>dizi[i][j+1]:\n",
    "        maxi=dizi[i]\n",
    "        mini=dizi[i+1]\n",
    "        return minmax(dizi,i+1,j+1)\n",
    "    \n",
    "    else:\n",
    "        maxi=dizi[i+1]\n",
    "        mini=dizi[i]\n",
    "        return minmax(dizi,i+1,j+1)\n",
    "        \n",
    "    \n",
    "    \n",
    "minmax([1,2,3,4,5],0,0)\n",
    "        "
   ]
  },
  {
   "cell_type": "code",
   "execution_count": 1,
   "id": "801d2f99",
   "metadata": {},
   "outputs": [
    {
     "name": "stdout",
     "output_type": "stream",
     "text": [
      "x:1\n",
      "13\n"
     ]
    }
   ],
   "source": [
    "katsayılar=[1,1,0,7,4]\n",
    "kuvvetler=[0,1,2,3,4]\n",
    "x=int(input(\"x:\"))\n",
    "k=0\n",
    "for i in range(len(katsayılar)):\n",
    "    k+=katsayılar[i]*(x**kuvvetler[i])\n",
    "\n",
    "print(k)\n",
    "    \n",
    "    "
   ]
  },
  {
   "cell_type": "code",
   "execution_count": 10,
   "id": "3330f4bc",
   "metadata": {},
   "outputs": [
    {
     "name": "stdout",
     "output_type": "stream",
     "text": [
      "8642\n"
     ]
    }
   ],
   "source": [
    "string='1234'\n",
    "string2='1234'\n",
    "k=0\n",
    "for i in string:\n",
    "    k=str(int(string)+int(string2))\n",
    "ters=k[::-1]\n",
    "print(ters)"
   ]
  },
  {
   "cell_type": "code",
   "execution_count": 13,
   "id": "57599651",
   "metadata": {},
   "outputs": [
    {
     "name": "stdout",
     "output_type": "stream",
     "text": [
      "2\n"
     ]
    }
   ],
   "source": [
    "gecmis = {'gün': 8, 'ay': 10, 'yıl': 2023}\n",
    "simdiki = {'gün': 10, 'ay': 10, 'yıl': 2023}\n",
    "gunToplam = 0\n",
    "\n",
    "if gecmis['gün'] < simdiki['gün']:\n",
    "    gunToplam += simdiki['gün'] - gecmis['gün']\n",
    "\n",
    "print(gunToplam)"
   ]
  },
  {
   "cell_type": "code",
   "execution_count": 2,
   "id": "17443eb4",
   "metadata": {},
   "outputs": [
    {
     "data": {
      "text/plain": [
       "[1, 2, 3, 4, 5]"
      ]
     },
     "execution_count": 2,
     "metadata": {},
     "output_type": "execute_result"
    }
   ],
   "source": [
    "def sıralama(dizi):\n",
    "    for i in range(len(dizi)):\n",
    "        minimum=i\n",
    "        for j in range(i+1,len(dizi)):\n",
    "            if dizi[j]<dizi[minimum]:\n",
    "                minimum=j\n",
    "        dizi[i],dizi[minimum]=dizi[minimum],dizi[i]\n",
    "        \n",
    "    return dizi\n",
    "\n",
    "sıralama([3,4,1,2,5])"
   ]
  },
  {
   "cell_type": "code",
   "execution_count": 59,
   "id": "faf70f1e",
   "metadata": {},
   "outputs": [
    {
     "name": "stdout",
     "output_type": "stream",
     "text": [
      "sayı :1453\n"
     ]
    },
    {
     "ename": "TypeError",
     "evalue": "string indices must be integers",
     "output_type": "error",
     "traceback": [
      "\u001b[1;31m---------------------------------------------------------------------------\u001b[0m",
      "\u001b[1;31mTypeError\u001b[0m                                 Traceback (most recent call last)",
      "Input \u001b[1;32mIn [59]\u001b[0m, in \u001b[0;36m<cell line: 3>\u001b[1;34m()\u001b[0m\n\u001b[0;32m      2\u001b[0m k\u001b[38;5;241m=\u001b[39m\u001b[38;5;28mstr\u001b[39m(sayı)\n\u001b[0;32m      3\u001b[0m \u001b[38;5;28;01mfor\u001b[39;00m i \u001b[38;5;129;01min\u001b[39;00m k:\n\u001b[1;32m----> 4\u001b[0m     k\u001b[38;5;241m=\u001b[39m\u001b[38;5;28mint\u001b[39m(\u001b[43mk\u001b[49m\u001b[43m[\u001b[49m\u001b[43mi\u001b[49m\u001b[43m]\u001b[49m)\n\u001b[0;32m      5\u001b[0m     \u001b[38;5;28mprint\u001b[39m(k\u001b[38;5;241m*\u001b[39m\u001b[38;5;124m'\u001b[39m\u001b[38;5;124m*\u001b[39m\u001b[38;5;124m'\u001b[39m)\n",
      "\u001b[1;31mTypeError\u001b[0m: string indices must be integers"
     ]
    }
   ],
   "source": [
    "sayı=int(input(\"sayı :\"))\n",
    "k=str(sayı)\n",
    "for i in k:\n",
    "    k=int(k[i])\n",
    "    print(k*'*')"
   ]
  },
  {
   "cell_type": "code",
   "execution_count": 4,
   "id": "ab8d6f40",
   "metadata": {},
   "outputs": [
    {
     "name": "stdout",
     "output_type": "stream",
     "text": [
      "Sayı: 1453\n",
      "*\n",
      "****\n",
      "*****\n",
      "***\n"
     ]
    }
   ],
   "source": [
    "sayi = int(input(\"Sayı: \"))\n",
    "k = str(sayi)\n",
    "\n",
    "for i in k:\n",
    "    basamak = int(i)\n",
    "    print(basamak * '*')"
   ]
  },
  {
   "cell_type": "code",
   "execution_count": 24,
   "id": "1fb9a016",
   "metadata": {},
   "outputs": [
    {
     "name": "stdout",
     "output_type": "stream",
     "text": [
      "x:1\n",
      "x:2\n",
      "x:3\n",
      "x:q\n",
      "Sonuç: 17.916472867168917\n"
     ]
    }
   ],
   "source": [
    "liste = []\n",
    "for i in range(100):\n",
    "    x = input('x:')\n",
    "    if x == 'q':  # Kullanıcı q girene kadar veri girmeyi bekleyelim.\n",
    "        break\n",
    "    else:\n",
    "        liste.append(int(x))\n",
    "\n",
    "sayi = 0\n",
    "for i in range(len(liste) - 1, -1, -1):\n",
    "    sayi += (liste[i] * (10 ** (i)))\n",
    "\n",
    "print(\"Sonuç:\", (sayi**0.5))"
   ]
  },
  {
   "cell_type": "code",
   "execution_count": 57,
   "id": "434a663e",
   "metadata": {},
   "outputs": [
    {
     "name": "stdout",
     "output_type": "stream",
     "text": [
      "y:1\n",
      "y:2\n",
      "y:1\n",
      "y:2\n",
      "y:3\n",
      "y:3\n",
      "y:4\n",
      "y:4\n",
      "y:5\n",
      "y:6\n",
      "y:7\n",
      "y:q\n",
      "['1', '2', '3', '4']\n",
      "['5', '6', '7', '5', '6', '7', '5', '6', '7', '5', '6', '7']\n"
     ]
    }
   ],
   "source": [
    "liste1=[]\n",
    "while True:\n",
    "    y=input(\"y:\")\n",
    "    if y=='q':\n",
    "        break\n",
    "    else:\n",
    "        liste1.append(y)\n",
    "\n",
    "boyalı=[]\n",
    "for i in range(len(liste1)):\n",
    "    for j in range(i+1,len(liste1)):\n",
    "            if liste1[i]==liste1[j] :\n",
    "                boyalı.append(liste1[i])\n",
    "                \n",
    "print(boyalı)\n",
    "\n",
    "boyasız=[]\n",
    "for k in range(len(boyalı)):\n",
    "    for m  in range(len(liste1)):\n",
    "        if boyalı[k]!=liste1[m] and liste1[m] not in boyalı:\n",
    "            boyasız.append(liste1[m])\n",
    "            \n",
    "print(boyasız) \n",
    "\n",
    "\n",
    "# if liste1[m] not in boyalı: böyle düşünmekte gerekiyor\n",
    "\n",
    "          "
   ]
  },
  {
   "cell_type": "markdown",
   "id": "60ffd5ee",
   "metadata": {},
   "source": []
  }
 ],
 "metadata": {
  "kernelspec": {
   "display_name": "Python 3 (ipykernel)",
   "language": "python",
   "name": "python3"
  },
  "language_info": {
   "codemirror_mode": {
    "name": "ipython",
    "version": 3
   },
   "file_extension": ".py",
   "mimetype": "text/x-python",
   "name": "python",
   "nbconvert_exporter": "python",
   "pygments_lexer": "ipython3",
   "version": "3.9.12"
  }
 },
 "nbformat": 4,
 "nbformat_minor": 5
}
