{
 "cells": [
  {
   "cell_type": "code",
   "execution_count": 6,
   "id": "860fef42",
   "metadata": {},
   "outputs": [
    {
     "name": "stdout",
     "output_type": "stream",
     "text": [
      "pin giriniz:12345\n",
      "geçersiz pin\n"
     ]
    }
   ],
   "source": [
    "rakam = [\"1\",\"2\",\"3\",\"4\",\"5\",\"6\",\"7\",\"8\",\"9\"]\n",
    "pin = input('pin giriniz:')\n",
    "c=0\n",
    "for i in pin:\n",
    "    if i in rakam:\n",
    "        c+=1\n",
    "        \n",
    "if c==len(pin) and len(pin)==4 or len(pin)==6:\n",
    "    print(\"geçerli pin\")\n",
    "\n",
    "else:\n",
    "    print(\"geçersiz pin\")\n",
    "    "
   ]
  },
  {
   "cell_type": "code",
   "execution_count": 9,
   "id": "1ca80e2d",
   "metadata": {},
   "outputs": [
    {
     "name": "stdout",
     "output_type": "stream",
     "text": [
      "[192, 96, 64, 48]\n"
     ]
    }
   ],
   "source": [
    "def sayıDizisi(liste):\n",
    "    carpım = []\n",
    "    for i in range(len(liste)):\n",
    "        c = 1  # Her iç döngü başlangıcında c değerini sıfırlıyoruz\n",
    "        for j in range(len(liste)):\n",
    "            if i != j:\n",
    "                c *= liste[j]\n",
    "        carpım.append(c)\n",
    "    return carpım\n",
    "\n",
    "print(sayıDizisi([2, 4, 6, 8]))"
   ]
  },
  {
   "cell_type": "code",
   "execution_count": 10,
   "id": "9d3a1d01",
   "metadata": {},
   "outputs": [
    {
     "data": {
      "text/plain": [
       "[1, 1, 2, 1, 0]"
      ]
     },
     "execution_count": 10,
     "metadata": {},
     "output_type": "execute_result"
    }
   ],
   "source": [
    "def buyukluk(liste1):\n",
    "    k=[]\n",
    "    for i in range(len(liste1)):\n",
    "        c=0\n",
    "        for j in range(i+1,len(liste1)):\n",
    "            if liste1[i]>liste1[j]:\n",
    "                c+=1\n",
    "            \n",
    "        k.append(c)\n",
    "    \n",
    "    return k\n",
    "\n",
    "buyukluk([3,4,9,6,1])\n",
    "    "
   ]
  },
  {
   "cell_type": "code",
   "execution_count": 16,
   "id": "319a4b30",
   "metadata": {},
   "outputs": [
    {
     "data": {
      "text/plain": [
       "[('m tekrar sayısı', 0),\n",
       " ('e tekrar sayısı', 0),\n",
       " ('r tekrar sayısı', 0),\n",
       " ('h tekrar sayısı', 0),\n",
       " ('a tekrar sayısı', 2),\n",
       " ('b tekrar sayısı', 0),\n",
       " ('a tekrar sayısı', 1),\n",
       " ('  tekrar sayısı', 0),\n",
       " ('d tekrar sayısı', 0),\n",
       " ('ü tekrar sayısı', 0),\n",
       " ('n tekrar sayısı', 0),\n",
       " ('y tekrar sayısı', 0),\n",
       " ('a tekrar sayısı', 0)]"
      ]
     },
     "execution_count": 16,
     "metadata": {},
     "output_type": "execute_result"
    }
   ],
   "source": [
    "def cum(cumle):\n",
    "    tekrar=[]\n",
    "    for i in range(len(cumle)):\n",
    "        c=0\n",
    "        for j in range(i+1,len(cumle)):\n",
    "            if cumle[i]==cumle[j] and i!=j:\n",
    "                c+=1\n",
    "        tekrar.append((f\"{cumle[i]} tekrar sayısı\",c))\n",
    "        \n",
    "    return tekrar\n",
    "        \n",
    "cum(\"merhaba dünya\")"
   ]
  },
  {
   "cell_type": "code",
   "execution_count": 3,
   "id": "820eb43d",
   "metadata": {},
   "outputs": [
    {
     "name": "stdout",
     "output_type": "stream",
     "text": [
      " * Serving Flask app \"__main__\" (lazy loading)\n",
      " * Environment: production\n",
      "\u001b[31m   WARNING: This is a development server. Do not use it in a production deployment.\u001b[0m\n",
      "\u001b[2m   Use a production WSGI server instead.\u001b[0m\n",
      " * Debug mode: on\n"
     ]
    },
    {
     "name": "stderr",
     "output_type": "stream",
     "text": [
      " * Restarting with watchdog (windowsapi)\n"
     ]
    },
    {
     "ename": "SystemExit",
     "evalue": "1",
     "output_type": "error",
     "traceback": [
      "An exception has occurred, use %tb to see the full traceback.\n",
      "\u001b[1;31mSystemExit\u001b[0m\u001b[1;31m:\u001b[0m 1\n"
     ]
    }
   ],
   "source": [
    "from flask import Flask, render_template, request\n",
    "import sqlite3\n",
    "\n",
    "app = Flask(__name__)\n",
    "\n",
    "# SQLite veritabanı bağlantısı\n",
    "db_connection = sqlite3.connect('ilanlar.db')\n",
    "db_cursor = db_connection.cursor()\n",
    "\n",
    "# Tablo oluştur\n",
    "db_cursor.execute('''\n",
    "    CREATE TABLE IF NOT EXISTS ilanlar (\n",
    "        id INTEGER PRIMARY KEY AUTOINCREMENT,\n",
    "        marka TEXT NOT NULL,\n",
    "        model TEXT NOT NULL,\n",
    "        fiyat INTEGER NOT NULL\n",
    "    )\n",
    "''')\n",
    "db_connection.commit()\n",
    "\n",
    "@app.route(\"/\", methods=[\"GET\", \"POST\"])\n",
    "def arama():\n",
    "    if request.method == \"POST\":\n",
    "        aranan_terim = request.form.get(\"aranan_terim\").lower()\n",
    "        uygun_ilanlar = []\n",
    "\n",
    "        db_cursor.execute('SELECT * FROM ilanlar WHERE marka LIKE ? OR model LIKE ?', ('%' + aranan_terim + '%', '%' + aranan_terim + '%'))\n",
    "        uygun_ilanlar = db_cursor.fetchall()\n",
    "\n",
    "        return render_template(\"sonuclar.html\", uygun_ilanlar=uygun_ilanlar)\n",
    "    \n",
    "    return render_template(\"arama.html\")\n",
    "\n",
    "@app.route(\"/ilan_ekle\", methods=[\"GET\", \"POST\"])\n",
    "def ilan_ekle():\n",
    "    if request.method == \"POST\":\n",
    "        marka = request.form.get(\"marka\")\n",
    "        model = request.form.get(\"model\")\n",
    "        fiyat = int(request.form.get(\"fiyat\"))\n",
    "\n",
    "        db_cursor.execute('INSERT INTO ilanlar (marka, model, fiyat) VALUES (?, ?, ?)', (marka, model, fiyat))\n",
    "        db_connection.commit()\n",
    "\n",
    "    return render_template(\"ilan_ekle.html\")\n",
    "\n",
    "if __name__ == \"__main__\":\n",
    "    app.run(debug=True)"
   ]
  },
  {
   "cell_type": "code",
   "execution_count": null,
   "id": "cab19bd9",
   "metadata": {},
   "outputs": [],
   "source": []
  }
 ],
 "metadata": {
  "kernelspec": {
   "display_name": "Python 3 (ipykernel)",
   "language": "python",
   "name": "python3"
  },
  "language_info": {
   "codemirror_mode": {
    "name": "ipython",
    "version": 3
   },
   "file_extension": ".py",
   "mimetype": "text/x-python",
   "name": "python",
   "nbconvert_exporter": "python",
   "pygments_lexer": "ipython3",
   "version": "3.9.12"
  }
 },
 "nbformat": 4,
 "nbformat_minor": 5
}
